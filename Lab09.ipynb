{
  "nbformat": 4,
  "nbformat_minor": 0,
  "metadata": {
    "colab": {
      "provenance": [],
      "authorship_tag": "ABX9TyOlr3nOWZo1D8R+RG/Q8ovZ",
      "include_colab_link": true
    },
    "kernelspec": {
      "name": "python3",
      "display_name": "Python 3"
    },
    "language_info": {
      "name": "python"
    }
  },
  "cells": [
    {
      "cell_type": "markdown",
      "metadata": {
        "id": "view-in-github",
        "colab_type": "text"
      },
      "source": [
        "<a href=\"https://colab.research.google.com/github/LuizNunes2020/Laboratorios_ME315/blob/main/Lab09.ipynb\" target=\"_parent\"><img src=\"https://colab.research.google.com/assets/colab-badge.svg\" alt=\"Open In Colab\"/></a>"
      ]
    },
    {
      "cell_type": "code",
      "execution_count": null,
      "metadata": {
        "colab": {
          "base_uri": "https://localhost:8080/"
        },
        "id": "5dWY8vdcVtRB",
        "outputId": "842834fb-fa7c-4065-d199-a98cf55ae40f"
      },
      "outputs": [
        {
          "output_type": "stream",
          "name": "stdout",
          "text": [
            "Requirement already satisfied: polars in /usr/local/lib/python3.10/dist-packages (1.7.1)\n"
          ]
        }
      ],
      "source": [
        "!pip install polars"
      ]
    },
    {
      "cell_type": "code",
      "source": [
        "import polars as pl\n",
        "import gdown"
      ],
      "metadata": {
        "id": "-o0-3kWdV9e9"
      },
      "execution_count": null,
      "outputs": []
    },
    {
      "cell_type": "code",
      "source": [
        "\n",
        "# IDs dos arquivos\n",
        "file_id_basics = \"1iYqAGTtIhRLK4ycFK41hYaWK3iKfOdT2\"\n",
        "file_id_ratings = \"1kZuj1lnXkPrNURzwYuc4FXTM7Pvknr3o\"\n",
        "file_id_principals = \"1oLR2_mFyRHEiKlqFKt4QDVYlGH8LC4mn\"\n",
        "\n",
        "# URL do Google Drive para download\n",
        "url_basics = f\"https://drive.google.com/uc?id={file_id_basics}\"\n",
        "url_ratings = f\"https://drive.google.com/uc?id={file_id_ratings}\"\n",
        "url_principals = f\"https://drive.google.com/uc?id={file_id_principals}\"\n",
        "\n",
        "# Nome dos arquivos a serem salvos\n",
        "output_basics = \"title.basics0.tsv.gz\"\n",
        "output_ratings = \"title.ratings.tsv.gz\"\n",
        "output_principals = \"title.principals0.tsv.gz\"\n",
        "\n",
        "# Baixar os arquivos\n",
        "gdown.download(url_basics, output_basics, quiet=False)\n",
        "gdown.download(url_ratings, output_ratings, quiet=False)\n",
        "gdown.download(url_principals, output_principals, quiet=False)\n",
        "\n",
        "\n",
        "basics = pl.read_csv(\"title.basics0.tsv.gz\", separator = \"\\t\", null_values = \"\\\\N\",columns = [\"tconst\",\"titleType\",\"primaryTitle\",\"genres\"])\n",
        "ratings = pl.read_csv(\"title.ratings.tsv.gz\", separator = \"\\t\", null_values = \"\\\\N\")\n",
        "principals = pl.read_csv(\"title.principals0.tsv.gz\", separator=\"\\t\", null_values=\"\\\\N\", columns=[\"tconst\", \"nconst\", \"category\"])"
      ],
      "metadata": {
        "colab": {
          "base_uri": "https://localhost:8080/",
          "height": 298
        },
        "id": "JbWpyRWte472",
        "outputId": "96b3ab0d-ed1b-41e0-d8e3-ee61bfe2da18"
      },
      "execution_count": null,
      "outputs": [
        {
          "output_type": "stream",
          "name": "stderr",
          "text": [
            "Downloading...\n",
            "From (original): https://drive.google.com/uc?id=1iYqAGTtIhRLK4ycFK41hYaWK3iKfOdT2\n",
            "From (redirected): https://drive.google.com/uc?id=1iYqAGTtIhRLK4ycFK41hYaWK3iKfOdT2&confirm=t&uuid=fe71b713-5579-4c45-aef4-52541008ed66\n",
            "To: /content/title.basics0.tsv.gz\n",
            "100%|██████████| 192M/192M [00:01<00:00, 165MB/s]\n",
            "Downloading...\n",
            "From: https://drive.google.com/uc?id=1kZuj1lnXkPrNURzwYuc4FXTM7Pvknr3o\n",
            "To: /content/title.ratings.tsv.gz\n",
            "100%|██████████| 7.47M/7.47M [00:00<00:00, 89.1MB/s]\n",
            "Downloading...\n",
            "From (original): https://drive.google.com/uc?id=1oLR2_mFyRHEiKlqFKt4QDVYlGH8LC4mn\n",
            "From (redirected): https://drive.google.com/uc?id=1oLR2_mFyRHEiKlqFKt4QDVYlGH8LC4mn&confirm=t&uuid=63c0b918-a005-4f6d-affb-49aa1648e7eb\n",
            "To: /content/title.principals0.tsv.gz\n",
            "100%|██████████| 671M/671M [00:07<00:00, 89.1MB/s]\n"
          ]
        },
        {
          "output_type": "execute_result",
          "data": {
            "text/plain": [
              "'title.principals0.tsv.gz'"
            ],
            "application/vnd.google.colaboratory.intrinsic+json": {
              "type": "string"
            }
          },
          "metadata": {},
          "execution_count": 2
        }
      ]
    },
    {
      "cell_type": "code",
      "source": [
        "top5 = (\n",
        "  ratings.join(basics, on = \"tconst\")\n",
        "  .sort([\"averageRating\", \"numVotes\"], descending = True)\n",
        "  .select([\"primaryTitle\", \"numVotes\", \"averageRating\"])\n",
        "  .head(5)\n",
        ")\n",
        "print(top5)"
      ],
      "metadata": {
        "colab": {
          "base_uri": "https://localhost:8080/"
        },
        "id": "BCDD7Ga1Z_63",
        "outputId": "dc2708bb-f755-4bea-85f7-e4cb1776b2af"
      },
      "execution_count": null,
      "outputs": [
        {
          "output_type": "stream",
          "name": "stdout",
          "text": [
            "shape: (5, 3)\n",
            "┌─────────────────────────────────┬──────────┬───────────────┐\n",
            "│ primaryTitle                    ┆ numVotes ┆ averageRating │\n",
            "│ ---                             ┆ ---      ┆ ---           │\n",
            "│ str                             ┆ i64      ┆ f64           │\n",
            "╞═════════════════════════════════╪══════════╪═══════════════╡\n",
            "│ Ozymandias                      ┆ 228900   ┆ 10.0          │\n",
            "│ Kadifeyi Kesfet                 ┆ 2904     ┆ 10.0          │\n",
            "│ Tatilde CUK Oturur Mukemmel Du… ┆ 2878     ┆ 10.0          │\n",
            "│ Inci Koleksiyonunu Kesfet!      ┆ 2812     ┆ 10.0          │\n",
            "│ DeFacto Kis Festivali           ┆ 2676     ┆ 10.0          │\n",
            "└─────────────────────────────────┴──────────┴───────────────┘\n"
          ]
        }
      ]
    },
    {
      "cell_type": "code",
      "source": [
        "q2 = (\n",
        "    ratings.join(basics, on=\"tconst\")\n",
        "    .filter(pl.col(\"averageRating\") > 8)\n",
        "    .with_columns(pl.col(\"genres\").str.split(\",\").alias(\"Generos\"))\n",
        "    .explode(\"Generos\")\n",
        "    .group_by(\"Generos\")\n",
        "    .agg(pl.count(\"Generos\").alias(\"Frequencia\"))\n",
        "    .sort(\"Frequencia\", descending=True)\n",
        "    .head(5)\n",
        ")\n",
        "\n",
        "print(q2)\n"
      ],
      "metadata": {
        "colab": {
          "base_uri": "https://localhost:8080/"
        },
        "id": "XXmSDE0PgZDb",
        "outputId": "8bb02227-3c8b-426a-c434-b23360d8260d"
      },
      "execution_count": null,
      "outputs": [
        {
          "output_type": "stream",
          "name": "stdout",
          "text": [
            "shape: (5, 2)\n",
            "┌─────────────┬────────────┐\n",
            "│ Generos     ┆ Frequencia │\n",
            "│ ---         ┆ ---        │\n",
            "│ str         ┆ u32        │\n",
            "╞═════════════╪════════════╡\n",
            "│ Drama       ┆ 108356     │\n",
            "│ Comedy      ┆ 92208      │\n",
            "│ Documentary ┆ 43531      │\n",
            "│ Action      ┆ 42070      │\n",
            "│ Animation   ┆ 38003      │\n",
            "└─────────────┴────────────┘\n"
          ]
        }
      ]
    },
    {
      "cell_type": "code",
      "source": [
        "q3 = (\n",
        "    ratings\n",
        "    .join(principals, on=\"tconst\")\n",
        "    .join(basics, on=\"tconst\")\n",
        "    .filter(pl.col(\"averageRating\") > 7.5)\n",
        "    .filter(pl.col(\"category\").is_in([\"actor\", \"actress\"]))\n",
        "    .group_by(\"nconst\")\n",
        "    .agg(pl.count(\"primaryTitle\").alias(\"Frequencia\"))\n",
        "    .sort(\"Frequencia\", descending=True)\n",
        "    .select([\"nconst\", \"Frequencia\"])\n",
        "    .head(3)\n",
        ")\n",
        "\n",
        "print(q3)\n"
      ],
      "metadata": {
        "colab": {
          "base_uri": "https://localhost:8080/"
        },
        "id": "x6TeCbbUio94",
        "outputId": "622e494d-6184-4a78-e50f-40384f29e39b"
      },
      "execution_count": null,
      "outputs": [
        {
          "output_type": "stream",
          "name": "stdout",
          "text": [
            "shape: (3, 2)\n",
            "┌───────────┬────────────┐\n",
            "│ nconst    ┆ Frequencia │\n",
            "│ ---       ┆ ---        │\n",
            "│ str       ┆ u32        │\n",
            "╞═══════════╪════════════╡\n",
            "│ nm0048389 ┆ 3777       │\n",
            "│ nm0217221 ┆ 2788       │\n",
            "│ nm0444786 ┆ 2451       │\n",
            "└───────────┴────────────┘\n"
          ]
        }
      ]
    }
  ]
}