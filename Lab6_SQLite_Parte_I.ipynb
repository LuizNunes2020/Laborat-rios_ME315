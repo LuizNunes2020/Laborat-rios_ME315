{
  "nbformat": 4,
  "nbformat_minor": 0,
  "metadata": {
    "colab": {
      "provenance": [],
      "authorship_tag": "ABX9TyNgoa8p2gCSpwyx/SsosmEb",
      "include_colab_link": true
    },
    "kernelspec": {
      "name": "ir",
      "display_name": "R"
    },
    "language_info": {
      "name": "R"
    }
  },
  "cells": [
    {
      "cell_type": "markdown",
      "metadata": {
        "id": "view-in-github",
        "colab_type": "text"
      },
      "source": [
        "<a href=\"https://colab.research.google.com/github/LuizNunes2020/Laboratorios_ME315/blob/main/Lab6_SQLite_Parte_I.ipynb\" target=\"_parent\"><img src=\"https://colab.research.google.com/assets/colab-badge.svg\" alt=\"Open In Colab\"/></a>"
      ]
    },
    {
      "cell_type": "code",
      "execution_count": null,
      "metadata": {
        "id": "H0tU-O-7ZyV4",
        "colab": {
          "base_uri": "https://localhost:8080/"
        },
        "outputId": "9a28479a-557f-4a68-9b78-83d1aff8712a"
      },
      "outputs": [
        {
          "output_type": "stream",
          "name": "stdout",
          "text": [
            "52 packages can be upgraded. Run 'apt list --upgradable' to see them.\n",
            "Reading package lists...\n",
            "Building dependency tree...\n",
            "Reading state information...\n",
            "ca-certificates is already the newest version (20230311ubuntu0.22.04.1).\n",
            "gnupg is already the newest version (2.2.27-3ubuntu2.1).\n",
            "gnupg set to manually installed.\n",
            "wget is already the newest version (1.21.2-2ubuntu1.1).\n",
            "0 upgraded, 0 newly installed, 0 to remove and 52 not upgraded.\n",
            "-----BEGIN PGP PUBLIC KEY BLOCK-----\n",
            "\n",
            "mQINBFM+sY8BEADA70T+U0/2WNjOTLvytuXLvBC4vgA8hYvOaBS1cL3d8lu4mwr4\n",
            "W84/6p4v/mXle/0eIO2D2g+XfK72ZHZxpS+bb7yPxrkCDLGxwUd/khtTJHSbbKFo\n",
            "J73AsABflMe+8qv+E74+QTiXErTCNioFRz18sa0EvOnEAiokau6TZVYY2z9YjBNI\n",
            "yEjTi+z+g8c1RL6VmrFEpTicTpafOLbkRyw0VKnAKG7Ytp3Ksc1G9/IAoKw3Q9La\n",
            "0DJb5iX6hyB7+PNid6htK4LtPKZ2dNSrnRvNNkjj5BgcM2AT1hmxbzHNzIVmPoKA\n",
            "CQFrkdjog3/PcyjdtZG7cfoSDXrbIAZeAa2ngLv9C/DJatVDd6maPOe66gLo7+As\n",
            "ErMvO9vtiouqLdurW+Lhx0jFW9Ca3g1taLfbSDyS3X1mOGWcisbQvBqkIuoDQTeS\n",
            "V4Z04wrwTZ1HtweKG/s5fmPtZNGWVI5YNRLIwdmbGzFTMPu2XTAOd+xSK2H+46Kh\n",
            "Sh4kFeP6pBh5No4ET1MzIuDAHwl0J+mbWKPH4tIosYkcVmvEiNY5Ooq8v0I1svc3\n",
            "ZYndlXGnqlrICj6ftEf4Mxvl8ZWLD6svNCWF/r/a7CecPgVkcHwY+zBEany/Ndfk\n",
            "kA17mg5tEfksIXO/j71EdpKHdUKfysqOKgdkw0I6UGCScJlULy+jc2loTQARAQAB\n",
            "tCJEaXJrIEVkZGVsYnVldHRlbCA8ZWRkQGRlYmlhbi5vcmc+iEYEEBECAAYFAlM+\n",
            "tfoACgkQCZSR95Gw07dziACdEOBDnlXZm4Zjce4YeEKJD3e4SPsAn2SjogZ7NYAT\n",
            "zMjxcaLc7pBZ3ht+iEYEEBECAAYFAlQHRekACgkQFShl+2J8z5W7xQCgnggW4HDA\n",
            "2okBJug4eGNmrQ1LGccAnRTzYB/eEQGs3QxcMxJuSWJtkHAiiEYEEBEIAAYFAlNA\n",
            "KMIACgkQ2wQKE6PXubwz+QCfT1ef1nUaBWAC+x1y2ln4X/2R1T8AoMt4stwpK+C1\n",
            "sc/yy6WM0Asid+G7iEYEEBEIAAYFAlNcPjwACgkQebASZpNwHu/xRQCfQsq8U23p\n",
            "gVct+Au+p/VkqHMG618AnilNqrxGrA+QcsmKLenpz2qmhUuAiEYEEBEIAAYFAlSY\n",
            "jREACgkQMFbw70wtPvrQNACffFe0z0aDJLuSVwmvdSDjpuTqzkkAnR97tE15odhz\n",
            "BSFW8v+RlOYzRvH5iEYEEBEIAAYFAlSwNn8ACgkQS/29pmBF+x71/wCfTd74iN5X\n",
            "klyQDpgFhZSu3H9UiQwAnikNt8RuzOyEM2shM+TT9VBelCAaiQIcBBABAgAGBQJU\n",
            "C+BkAAoJEJzRfVgHwHE6PMwP/i+0r2zo2U5yDobYISwH+qyTlDOozZUpcLbAzmgd\n",
            "T9z4DB/LRfjvuM8kqxRGt4i1HtmWzO2mOznW/fay4V+zjKduENqOZ1LldJRwwcyB\n",
            "ohUD1d7hUmnS48J8+1UFqJ4Bwn5vQrSlNY0BrDaaOc3gokU6SaI6yodj5f6zjEWK\n",
            "lCiDSggCxFxV2FYCaZEt1/HRYV38K2UDjH9kPLa9or8/YpL+kHxOz+BKqaHEcP2O\n",
            "eRKn1216Q+WHBCIWE6aYnAT79nbwDR8AiRe5wAyuq3KzMcaqqrXDJdkO5elAGFSg\n",
            "1mB1qeIcS04esh9AUYXXkBgrQeZQ3YTzvDqRkXceLU2u/8RyUhNuR0HisY9lal12\n",
            "9sjeoiu9VYQE7rn4Pfgl/vcJp+Lo0i/fwIWmTO94cG8ait/5QLFroC1B6wjaCBwZ\n",
            "ytGnmAdJENQeQv/iZyCmygqCLw0Suqe2yh+XdM6AzEd9pZBH6gxMpz+8G0KX8F+e\n",
            "k9vkDzYFDnPUxrSRMkpXGAjSIG+mw/aHgVw2CyWlQ3ZkKHBn8UTChNni4Ms5VgwM\n",
            "NEzg8Qon60lDLtILX7b3MK2r3Rpilv2iZykGijZFMHT1PHOjQpW3zssaS3pqMUgZ\n",
            "TyJx33fPxQTJiT9tboaZEiyUYNYIBDfNFaHFU9k0ZrrxzGXiCIrx/BXfVBnWFMUp\n",
            "frIaiQIcBBABCAAGBQJTQCk2AAoJEMn8Qbj5jGbPYdcQAIKMzds2YKl9EusEpGPw\n",
            "vlaxCPOZ2koQno2zZEKmGg+vjAxwDIIrnQ2D7RDxXa7ed/id22saQ0JCYXAQGPh8\n",
            "gfaF1D0qDk0NnVzAnQbWfTeqvaP8MPx4lI1BQFvCdQVgwnThta4adBrgTX1nID64\n",
            "x1yi/9UVQrOKpFd9Xthieexbhjul5KjDUn4tTLucQDgrrbVHs2k4KS+MmPxL9nHQ\n",
            "W3XOD7y2+Z1sutxE7vxTKfl2ADFTF7HQ2bEdgQZmRnXStmPhu1lpDi74t9k7GI21\n",
            "Qlsr9GoxYIwIZ1q3MLBrCR590Gl6t2TMp1ZH0YTFTrm1C9fKZZDVngCcw74Auath\n",
            "galOkgBeyH8Ghy2ZBnhFjh/azmu8xWE6LPOemiYaYLWAv/PVJGSrgTdtswT7AMgm\n",
            "ytF3Z1suTLxec0yc7QaKDzyIikhTxw7qAcLz2bcC3DlWilfXWnsQmXrChVfGrv/R\n",
            "JntvN26PKwEIVZXf49w5cfOjuPj0dp9t2HIIkEm9KEF3xPbmeyWidJktMrXiDskg\n",
            "GNbu9HZtHyO2vAy3tQGlG/4/1++kkMwowDXC27zY1rMjCYtzVog7D4KaYx/IwT3H\n",
            "gj6ANDOiiNjnc6i2E91e312TeFyZdj68+8EXp3G0wlQm1WU8bddWm2m5Zbb3+s/b\n",
            "WZeT8QtspPsL6DLbW1P+YdXYiQIcBBABCAAGBQJTXD1cAAoJEFipIs3bXbCObugP\n",
            "/3lDWzkfQeDrmHUTO1TVkDxh7Exw54ob7Yn+n/Q/btkaDzuMVWglFCZBKaI3akXw\n",
            "ROmxTp2Re9Xir4brN4Izqfl6dfwP5fmslZkwSboKShHaHmHCf9Hn2C/5dY0rysqG\n",
            "MfczzaX1tWsGgY57hxF0Xik1ZQaeOEfgQ3Jd8XshznIUwA2Kk1tkZdGXrDG+wIbE\n",
            "L5S9ns98rzggg5KCKGXXWXCPEP5wZIoy+Trf/nO2eazW2i49xhdybH0cp4ipA7QA\n",
            "JKCekYxK3nY+P72E/joBFSD2bAes+pFwWsp03dh74FErzQ4EqO0GIXdFkfE/ZPYz\n",
            "L671lLHfXO0PHVhIqMXE2kq1mSgvPSF24w1rYmmC9gsFlH11GsilcJn9UjCzGuWr\n",
            "Ow0ZCUP6U1c87XZPdKt3QRTw/3yyjndXDbE2iQ3UvyJsioWv3cP+ET6HVIkoMsui\n",
            "XnuOpYqHOI8LJjoJSQiYAY0TxrgGrahHzuKXMsSnTEAt49LWilv5NGiXcvrbcqNu\n",
            "fDKnN2QS63ZuOnmi5otB4QsAx74Efy/76giYwdTLtP3AWTniiqbXdHIj9Cvxnhjp\n",
            "J5dFA+MMbNGM7jw9j/zep7JE7fPDRdlAhUn/nmtdaC3ze03tBcWD+9ez5W3i3hPL\n",
            "EltTvllfX9PS84WFmAhhWcmDYXd1wK4FxPbZfbRhm4MciQIcBBABCAAGBQJUlJjw\n",
            "AAoJEApQQvSXUQMcw+4P/jKffAptsSxH2rB6G7hROZDJFowGq5YcpONyC3/CQn2w\n",
            "HCqjTk9YaL0AXycvayqUm6fEjfNg+9org8XnhRyzY/+C67SHiDDjOLGrHOwxMdB+\n",
            "0yxZT7WkIBNO/qWzkpIGahho96TKKck1k9eHr7Xd0H6roQ59fXhyor5QRhVZNKYZ\n",
            "G7DGd4wNicWPiujyNhAii7LVaMta7+nIVvQwhS0sJROYZigPCSJKtNxPVMg8bDm2\n",
            "53JXCeRKWjjrtGlRfbCyheBqf33sANbzUZ6urxYvhGtusev+XUfT9qtCm/ZkcbCh\n",
            "0H92oe6S3RrZePmzwTOxTmKFXu6N798aee8H5orCwHpQ54knSu2yesAfBN78JKsy\n",
            "UdncSNg2x/+1T6Ya/hnhgnO9hJZJdK2wr+5IqWTLq+BIXAchhPUnszxzIEKn5Q3t\n",
            "i9DisflEELGDXQ/SNoWPIaG1cqG4m+98ndaNPqH934AdbXzcX8Rq6qE1zC5rgKcS\n",
            "Khzve0vVLkRrkbi9e/1dgwuORCSUeGAgScTuBWGeEoK3MLZiuZ+gM3D0jrCgbeYs\n",
            "aAKM8ouHsgIifwvxOENy8DqXkxbpwvq9zvvLF+cNMnVvmGWqwxMBXo0Le3CMQhE3\n",
            "hmpayPEDa0t8UsnA8qGXzfK0GCQX/3lAOWkZ4A3A5kRGLAyiiOj9gpwfrlFpRLDl\n",
            "iQIcBBABCAAGBQJUsDXwAAoJEL+ij4ufyK5zp6AQALSRMgYN8glULuXpUnnjOkrj\n",
            "7By5eAzixzemkbbfWjHg4YteBX8EZviaJi7dTu71rDEFWUiyux87diAY6KwUt9SS\n",
            "axQhQ4fOeAyP/ZfFforV9ZeD/hcpzVZc1/A93THJ/BWLG08bgh9sXanJLAQm6YU0\n",
            "hT4JgGv3y8yso9jHhlFFNkKK2lij/uea1Fa061XueTry8vn7g5oblm9v60s/zG+v\n",
            "jgksRbojMKYYF0j/dYF8gO32ZBDAnCSgWJb8HPbLwbcJDfAmT3wKuNXbCf+76wr/\n",
            "0LDZHXxJU5d7xhpbjO4W3FeGqHKwobk1Bcm13W6MT46femmabk9KrlBq2yNVdpyn\n",
            "IB8lmGSFcJodEulZM8YCHuSGxzy9wcQ+ScFtLRMxWbmqQhB0vj1UF1BQ0SxvkMd/\n",
            "IcyWATX4OERNdL0YvvSs/zAywIf6ku7dbMwWkXHYr0rwbibWGWBZNGFFMZzg49+B\n",
            "wFBKELxFAWgI1z37iLfwlcqNDfUVw2sb/r+6uVzPiWvhuRtZOIShatZfgwXBTSua\n",
            "l7fgRwVoIeLCHEEBSP5GX4zN4Ips3DN+tgOaxUYtXR+NVnb7tScgcMZFZfI2B/WI\n",
            "TfOw8LAvsV6hGzRh4xaWYuX0Q9OMd4EMm5GYzDELZ3zOyisv/SFHgxd4swJDHNbn\n",
            "BNU2Y2/TJRsMYXtBXJVPiQIzBBABCAAdFiEEfWrbdQ+RCFWJSEvmd8DHXntlCAgF\n",
            "AlitnkoACgkQd8DHXntlCAiwIA//TR5mF2eS7jNLnUpWAJaPfoOB+GKcIULo1czW\n",
            "MSRogTgB2uK/pvmg30KuP097P0pPRTRm9RMYYzfXwPj/DmU1qNonLc4Sduf8BKBX\n",
            "APTrszqNRVZma6ux01wtS9TQvSB4QfJ6jn+R2NrYXjGkOFrOh+DAeutS7xpW0rrN\n",
            "bJL4jYjUV1cDqeED/2Ur3miHxkUwFpYT9SkYm3uBdztqQKzdtYlZcUgN1qFu8zhH\n",
            "zE48cz6RGvFU3bQU6cvn6X0GG6oFR+i7In4BrR1xwyK22ZDJ5Ovf8WDGeR435SvH\n",
            "821rIocLN8Wmg64KjWwdW6p1QsI8NXz4a2oI2yk1q+bzX5xoEXLv6BS15yin+c7h\n",
            "BW0Ho4ORI7ugwBoLJJSx9wPyT5QQbo5IhapIwUsHAN13Ab+IokWNC5kQZYdde8GZ\n",
            "ksERDXG9TZdSEYNAxLcyU06bzQ+Flc0HcHB10kAwfIEcfuh/B29324dqSLaOWBTv\n",
            "LUgc1DDGU6dk6pwACJoQKYBLsDmrp4B3iq76hJL1NR6Mwg8lK5ius6ORjOl8neh9\n",
            "7e0KuSeL0QR1Gnq1FB80agv/KAB7k5VYVOL2oDtlwEKNHOU11A9S+c5Q78CsXWs2\n",
            "ECV5CGc2m+Aem0oJGXnq6ewejANHUXq2CeImFwQITjZ2dbykTf73Z1ZV/EP8yiEE\n",
            "5284/tOJAjsEEwECACUCGwMGCwkIBwMCBhUIAgkKCwQWAgMBAh4BAheABQJTPrNW\n",
            "AhkBAAoJEKFIn+KrmaIa0N8QAK3dhqGAn164EHI9c9XPlcSMePHqrLibIXQSN9Cp\n",
            "QCHGmeIoBBtpUrJlxKKvE+kdIYtysduMGT8dJlBjE1+LgXbF0jUrD7aRaDGAo2zX\n",
            "gnDiJmjaKrIcHuIm864O9iQcAeSz2tP9RlLoLQScgBCNJ+CaMXwlZwlLM3T4QNPt\n",
            "F7zvAiBinMwDV5iXxs9aVn4cE3+cs6lZ9XckYCHwDD1454sPqeK8nztnj0Z1exS6\n",
            "hnYzNBcjYcdLvTnyM4jM73BAl5etU3qwXtnqQ53BcIF4yNJygjZubIZQB8ZU7b4e\n",
            "NWZ4BrPWnxKagosKSrABcD8CBhoL9a4CACqmyF9Clc/rdTv0zJNk9Wr/L9qpcTP1\n",
            "bZBUTfY3zO5V/zWsIQhQxx8mLUs7yKj8rO1sg7crDxqXnOCSa6IB88X+EuU99ot3\n",
            "1C7WwknrR3mtUTW/8Vimh7eXEXU5e+91ahBFbq2mFKcrzfRTbDFqTPeCaXtNHFRq\n",
            "Z4ktnJTRN6FVMP/RJfzRORcVBfKPT2lb1fmgAXeSc0su4N61tIl+4jbs1/7bCHwz\n",
            "zWscEKTsThKGY8WqY+DfzY6eyny0SPD/nPQd2bXwTiTXFeuF0jKeN/LN2sG8tl10\n",
            "Z+6qnwHYx/65MpHN2SVrYnMA3S3iFhfc8IYOIjU4ZktdJOh3JIrHGxMEE5BC94nA\n",
            "1gKeiQI4BBMBAgAiBQJTPrGPAhsDBgsJCAcDAgYVCAIJCgsEFgIDAQIeAQIXgAAK\n",
            "CRChSJ/iq5miGlpPD/9+AUE+hDYD1dfL9a5Iz4yNGjBM+LUCbx4zSbU9Xa4RcXPL\n",
            "5PoYXmzWV8jx5Z0IMMFt+nYOeSHW/52BeD2U+W7otie1J8YV+7AUmjXtopzKsWWB\n",
            "A/BTZ33AVdw3jmmxIy3+4RrK54DDp3FMmadeshUrOmgN0mVAuXE5bQbA9lQOx+QP\n",
            "ImmoRH4HCL+Eg1qVbeEXWK2fTPNZUwogPd5gUc6L+BDT00PibL+L4z5K5cmnBRVP\n",
            "/gIrmBYWkfkYIICym+cSZ+nVfmY2OUL/VyuwIBGBnx58mbDxisEl2i5hmRGevTrR\n",
            "/M5xzjqxucrKrVv6drQCHkYy/X0bSScShv2M2Jbb5puEZedkZaogUeEozsdmh3pO\n",
            "4WxCw7BrXmP7Fug4dogb8djvmLqNcJ0F47FCNOeYb7hKi8NbWcQwMdCEUb6212J4\n",
            "rjQWNDC8nf0iU32K2F/DXrlJeSMzCXeWhz8XoyqbBbdFC3VhyDiXybZEceYKdmYH\n",
            "xBbEpKeIeeLPsB/LOj5EJJEz+dJXB7w8jeFjqTCQa65PNU9AF3+P0yp6sqki8rBv\n",
            "6WX68UvUuSFOarPYxG1vpaEnMiTVdJ9J1e78eXz9hEHKTigFJ4CAMQ8qgp2RTesq\n",
            "p80tBjmDqAcL9yovtVC2iXVC9zJLbI0IX6OHa0uDIpjWJ2YMhty018gqm0ezeokC\n",
            "MwQQAQgAHRYhBAu+7vBk6Uq+hDJYtHVBz6r8NerPBQJZ4DXKAAoJEHVBz6r8NerP\n",
            "34gP/iLqLDAzMRGGFQ4UDf17eRF3WsYcnSttwv9Pn7xQ3fWrhrKhGGGTNfaKQT4w\n",
            "N3DTAojKlqHPdBkamsGbNWYlHsY3b/3Z/NRc+ZnRxVyFwHC9s7Amitk+FWohbFR3\n",
            "goqQazZGIootMGxZYaP7806ePdTCmCmTCriP9KMxvA8WlLISWUYl/JILkWgdaPCP\n",
            "ZHXWYAI8zNWegoM6eKcu3WFSDxFNBQr18djU9z2X92hjwVsgJgO4V16MLMbqCs1x\n",
            "zLQELxau5UxRPSdVgwhtfuNuZX1z7ME4qhoaHMESMPjoWWYAc8pJaQ7nbVDq37G8\n",
            "aYuXLZ0ZWJ/cyX06Hic7e7n6qtp5uZvdHpfOHKAY+TnDlY5o0YSY0eg7vljF+s5s\n",
            "4vfdulcs3slze8M8hdrZIuaMqxYr3QFZf0qPHmERRsf0nwziEfGYesogkd2k3tqJ\n",
            "CNK7yMzbozIlRXzR1gutBTTibbRhf+cFMv4a6m/mIRG34q3gxm9hTHxzQ/PF/6Vy\n",
            "2nktsTphZhMUczD4q8B2Fix5pwtYkJ317JvifJWOmR349LdhV75PCkLgf1ZxapZ0\n",
            "rPFRLCaS1F3dxATvIE4j/dp29I2Fi2SCdezoxezyo1tFNH+azIrn3ghpt7UHpYU5\n",
            "OfInicz2uhFefpr6WXBQh0v7pTrhe0+PmSbvNzHeA87I/9xKtClEaXJrIEVkZGVs\n",
            "YnVldHRlbCA8ZGlya0BlZGRlbGJ1ZXR0ZWwuY29tPohGBBARAgAGBQJTPrX6AAoJ\n",
            "EAmUkfeRsNO3nqEAniiIKQu/J1AsO0YUxmgkheGB8FZ6AJ94wbyyGR8zIeUbd9Yx\n",
            "nKH+33r2eYhGBBARAgAGBQJUB0XpAAoJEBUoZftifM+Vz6YAoNTFx0NutNCCWlwY\n",
            "kpryxQYZMaz6AJ4qoAqF2aR/rYAZDX9XbfS1MbWzbIhGBBARCAAGBQJTQCjCAAoJ\n",
            "ENsEChOj17m8Xw4AoJeCs29fZJRPmdYMfyo2QwH05CsGAJ9P/Z4uonpZmfYSHE6Y\n",
            "/Fz/TmABM4hGBBARCAAGBQJTXD48AAoJEHmwEmaTcB7v0xIAn0vQ6kUbO9I7yRL4\n",
            "HyocEx+Ys8oIAKCA/3IZAbR6O+7hopFaqTa7/ehehohGBBARCAAGBQJUmI0RAAoJ\n",
            "EDBW8O9MLT76PikAoJIH+B1cXiIQ3rB1IMiSlvrilLboAKCRMXvo4kMmhIz6TL+8\n",
            "ks9AHD8a74hGBBARCAAGBQJUsDZ/AAoJEEv9vaZgRfseotkAn0pXDU9vXb1JLY82\n",
            "oTdI6MMICzXAAJ0dO2AXGhmQK51zfNhRTRqCPXIDqIkCHAQQAQIABgUCVAvgZAAK\n",
            "CRCc0X1YB8BxOmoAD/0boRAyefgxAuNihPCeWoLcTAicGAySm0GNgdROAAX5OTvT\n",
            "Ii3ATW4enqPRrLK+FARI42xvWcM8ekjt10vmA8XkzgAGC3jluHICAjprvcBpONHR\n",
            "yz2Bc7/qAqFP0ErrxqVuSyoNRlAtd7iOSMnDeT6ulCAMQtVKjZ5xcEnbEYokac1I\n",
            "0O1JGWDM9eHJd77ehmGcLNOBzOztwcSZ3pyS9FvjaJRM6ngv3qZluR0BR+FxOgsY\n",
            "NbjXtv/9ER1xg8f8psAAI5BArmBbPzFaEy8sEvOD5YxFZ8dI093AgeTqvmIyqEYA\n",
            "hVx20sBOnLlOinwx5njXRNt8NpSfs3yPU2NTbxVeCY+CFFqF5VCikRYTi95GQVep\n",
            "/gbZFYIUDAKzqwIMTAQ2KoaIbtExIHnzBDGVgiu1ANcMjWouoUgZzOTwXQSFO0wk\n",
            "OvxnaIpf0pPfQ+yuR+oN3U5ma3JYFgrxF0RzqCiZxlT2jZCAcciNlU/uPwvKQ4He\n",
            "6IfLMV6YZWM2TioltwHXbKhxZRSyOLQpXK5tHRGjZUDMoGy4GITnKaUCEIf8xVR5\n",
            "V8nrt/T+CSFJSG41Uq87WQvnj9tlA7gcAwyzzGLiQ2hAAJuVEakP/C8APpheG6wo\n",
            "S/NN5tcNJkvoO3ObTriAMAuoTvcaemGnaSTZP8m4dvTYQM3D9dQTyC2J11Vu+IkC\n",
            "HAQQAQgABgUCU0ApNgAKCRDJ/EG4+Yxmz/seD/45LVeLYZV/Zv9flkDEZTUz5872\n",
            "1Z0CQROL204dbZx/hGdLpDgQolPRgfd0klO2vW48jsn1y/F3wXwgGsaSia0tGcZR\n",
            "UsiPSTdvO26ZcncUBiZ8MF/Wq4foao5rhEhFQg07O2bAcDJpGWe2MoRE4WhxWp4V\n",
            "a3BoGMNPs+tNPFyGlZqtFxtPENG/HVckKKECnjkK9y1uJDqtvCVWca6YJPrXRj3x\n",
            "tj+TqZB7rmnX4yMHjKVankou6dlR0/1/Jvk+/u7R1AoPw7qYMzEi37QjI03EAsOr\n",
            "lgKq1YIvY/Wr5L3A6Cdbm9GzIL/D34J8rD1il10qDG8oj5CIR/7IyDQigb8b8H88\n",
            "6Ow11g/pTd/3ip5A9A/7rhJfo27HrlsIynZvxLoChBXEJquAjUtCm5MEactaCFp9\n",
            "deeeWbvJK/mIcyYKvfRTGiNkpcQmjqGTOFxoPOXmLA5qYVvFKonr8yMzkPL1eP2r\n",
            "tfIV5yKeWP2P0L9RX3ljVmVMwI6JmvPj8j45x7dqjxr1TURxmCUU07boYUE8ZnoH\n",
            "mi2H4xjB5u2EX1arsCCLCkSvGeD7eoBQejhKpyy3+5gz4JO4nMKJOtHZf+LCAmvc\n",
            "FXgB84kp83D54dHb6ENdI4cGgEcYy4ffccxsnzQeP16OXrciVuoWVjl7whHodjxV\n",
            "BpAEvrFNFQN4u1tHPokCHAQQAQgABgUCU1w9XAAKCRBYqSLN212wjjhtEACDek79\n",
            "4Ek3D7YuLBHVqcuOawv46KGRRTte3RecMTX8qeSiIBOHR7BX+8P7qRlXgHXytxiV\n",
            "N5o86CIyHaekqd9xXz30FOG1c5q6MYsxXEWf/9rdhbkgvG16CQ0AN+PqpJ5b3dAG\n",
            "ItjmiDw89UdCz0a0Cl+ieXJgPUKPzrLFpXFfoBUp0oA86pKbjzfaNRW+kkYqeC1k\n",
            "tvhjtNK08jH+19WbCQl57S9RP0Mug7fsivxBNTMZDVA6/pNJawaSwX7+CQgBXsHB\n",
            "D1jbUY8UMFOEQrRzBrwlnnhV9pL9O2o0nObFFC7nwlkKpSujYO4nr05NB5W88rpY\n",
            "ENtOfvnyxn9AOr/QHOxIHzVqMZnMXMzRC088fxHF7rWJV8eYICWoOIPxNSConp04\n",
            "izswjO+5UGP8ZvHuZ7zEmx6R5RZcvwodyXRouRpahr9G9UaHT5srNSyt3d9bQwRM\n",
            "GXhQ4X8BFyHk34x1FWFh8qcE1oZEWZp4htYNCa0nLaEabxIZK1Yzcpq73i8Eq15D\n",
            "FaH7mGlc1UXsFhgrBwnQUcr5NG5q8NwgA5Y7DKKM1YEbquMB78jeYmHeo3pMpZNA\n",
            "OwiWWqD9JfVycoWS0M3Ak27w5nuBNNUbLf8sMkggVcEkyNuXWEYb3yBuBMz/oUWL\n",
            "58jJRDbrRxwJsLMEbQVDt+oJbSZf9os7FWJfJ4kCHAQQAQgABgUCVJSY8AAKCRAK\n",
            "UEL0l1EDHOsvD/4not6qVWOfeg2jzQw8qM9jQDjre60rs/JkuIztcMAG/TvLgKa1\n",
            "mL6Siidwzdt5wLDYfT56whkH1s2t8VGBx60zgQd7oqsyg+kf1I0u54Q5eHjFT30U\n",
            "BtDmN0sklitdsFASlhx979VVV5IOeT/d0PnqxnLj++dYomjeD3ie+SbydXzN/u8y\n",
            "TCzM0pCEXyO1QBZXwG7XDtmbmVCxMOhisCeGPL/dwGyF3m6LqNxDmacrXLfkZSNO\n",
            "EgsFBqJX/R8dNdICNHQAbicrm6/RTrypC+KmZtvoMT+pXhoKSg2tnTkOTeLpw9bE\n",
            "dSNi2yrz9PZ6R6YdBVI/2n0M9eqEzXqIy8/7en+rp82/NlCCod54ehDoZRyJrzIz\n",
            "4AhBp2DgbMmu9RYY44yZEx6w0FBLJY03ro39QJYtyE7AawYQwA9IHVakhTtr6CdA\n",
            "vqKHSLI24IazmpPySuPpaomqeGIX0Xw6FTKEUMv9ZV+8w1LPcURyUumsyUezw6JN\n",
            "8V/0CRVXUdfY5KpMTQLL3JeMVgYKxR3vA2ReJ8yMBe7Vfd/Fn2N2mB06eo8vCZJu\n",
            "/Mb5LGe36cYZJ9z1jzKydanyFqWhBRSCVV5sa9HmeVQEJTds5jW8uDg4YLDiBt5F\n",
            "M6Six7KBzJBQ5u4bu67NquHSud09jFXlY2yWT0PebqpuYwB1VlwA7sdB+4kCHAQQ\n",
            "AQgABgUCVLA18AAKCRC/oo+Ln8iuc9dXEADK3B03hrv1+MMscnKIl7iXLc4rsbO6\n",
            "R7Vc7ivyCG4R+DVRe/kfaKQfyAey9xqtTxYJ9ysBQ8egNfvgoLVd9a0y5v1q426S\n",
            "vvdRfCAFsNLZoeuWkMvl8FavlFz/aGpPNVHfnL8UmqVHax4WMaOHdiOO2k/HkMgf\n",
            "rHhj6thmQJLxpTRIwDGO8oigh9g1kgQNq01Olb8A9TY8HUVJXvvHg9E1NwRFzxd4\n",
            "zsinIR4Hjh7s4qxWCwdKKLKCDBp1mCu5gypR+t71LDAZh0rDP9DA2BhoUUHGyJcN\n",
            "cZGrw4+gjMmXd6Wf6LTuQ3GvXaV9ASbaJKPmYBF2xjwpmNabXd9YTRzCNOJCgRWh\n",
            "M4Yi+H4gQkh0DV3nFXNZ1E1sawXI29lyEu6vW20y4Lz4mkuMP5maAukK/hrpC9iP\n",
            "GkZrpsSwblS7U+/yB6YxR2neISboAenPeRUShHc3hVhU0kjYfio0omFZ8GlrxNQl\n",
            "Z3G0qGOM7JxTCFDxHxjMvP17sR05i09b61MOqzPk3ob8bxGiHz4xc0mnyY4UFgQ8\n",
            "jWecPsX4FfwtuTTAY9BJDAkLAkZPNinRzz6pUOfiWg6soxJke/RfQma3Xd80o1P9\n",
            "FdhHUd0HWbLUsYXEtg6ZS5seVzw8Gkg1ZAt2pqZCjKq26SA/bCamty19pZ+Fd/2Z\n",
            "P79REnHHP+iRQYkCMwQQAQgAHRYhBH1q23UPkQhViUhL5nfAx157ZQgIBQJYrZ5N\n",
            "AAoJEHfAx157ZQgIkxMP/iHT7ZAwXuF+l6Mej8NBxwEoZO0U/rjRDEswDKVr1KbZ\n",
            "loKmniz89wNVEfF5maOFOT7aJrJWURW1SD4Q7kJt5NAzih8E6iE8fSCMxKeOa9/r\n",
            "ZOfZauro4ew1p1d4Wv4l25FaEHQqmfWNJlyc9QFT3CIpBwDv4cfnGQzoivMmXE+l\n",
            "QJx8z6SaG7Wjib70GcvonPfCSaleOUI02dXbV33wM46lYGL9WsEgecITYvgqGwec\n",
            "aLIXQQPKIa9icN4bwZYLH5jh46+8FDfz5sXH4huKouyxXoAE8h9DJHB5zrXKRpI0\n",
            "dKr7zmVV1Ph+6XhbxzqZAltEDzdi6luj+nugq8tGhluYi9QqWJookWt30C9NZGW6\n",
            "d/IyEHqJaQG0RCHCBLkyUCWgRbmz019aPlgcdLqOwEFKKgQO8qlyzFMOU/GlgxTs\n",
            "rFSEMAJLBvdELIW/w25nLVY6FHTpnB/Smityc72PXATO3ZkAchgDi3hFwVB86rVe\n",
            "kCVxOEdolD3ujtl2ZC9Hi9/DSwrjdl+eokddwsD5QuFk2jhNYBG5c3a3x3diMINF\n",
            "E9f0hNgtMl1OlSvrFgvBRsfqQAnh3nMhK2yQgfhO0Y5tuwVTIrlCLzE6i7nlrUF8\n",
            "QiJc5iK7t1BaNn0tJ00ik5piiAnWuyjxkTJNh/wLoHZRohpzIceLKJ1i3kZFvTt7\n",
            "iQI4BBMBAgAiBQJTPrL9AhsDBgsJCAcDAgYVCAIJCgsEFgIDAQIeAQIXgAAKCRCh\n",
            "SJ/iq5miGjoWD/9R4isVKrZ6k7XIAgRNUJofiZdg2x1NwaJ5xCcdvbh45IqZAnQg\n",
            "s+v4y4wZ04yEAaOQwUQoKw8Y91c8zAOD5aA1qB+mjv6CMrh8IzdGeuKRporMKY+s\n",
            "XBMnTDCNi/Kmlv+ux/bu7qavmXZCPswziPhJT7vuJY27ymnAXL6ZVAD1hUvaGU8x\n",
            "Zx2Y0bfd4IvNGkHxBGe26/ngns5KyRBXBeQmdxZqBvsu6fxafOQzl4p1ni9xMXg/\n",
            "p5MUJqylmFvzXaekrB7Dnr2fTGQh8xIYfaorDzP1GYWBp7pw70NWFKpt+TGaUg/3\n",
            "9rd5Z//pKFnx/VuaGDe5gaJyP7citptv73JHsocIZGipat/ouLp1trdORYHWn+/L\n",
            "ZTGl/g5IqafNAkUuL7XxrievmhyOfpi+UE6NBdIoJ6zATKwEd0x3hKBQjZJ0r9nL\n",
            "YL3tqKymTZa2Ohe1dIxoan5E77SnDKWWAlz0NjzpvOrCWB1uSBQfAp9ZY5HPAUhx\n",
            "48IvbfYYlR6KWckqhqg6C9lBXS3DaKhvIal1y5SQLEdJGK57/sXPMmdulIlNnpP1\n",
            "5EP/Yea3OQ+J/469MEpTD8oMyrVCMQ3tlimxWCyeFMyDVeDt6TjBOIeZ7Aobtkqg\n",
            "rDUbmL4z1WJxGbjsD2Gv0chBohvSoe+MnWnN+8biR3tyT3VosYNXVkjULYkCMwQQ\n",
            "AQgAHRYhBAu+7vBk6Uq+hDJYtHVBz6r8NerPBQJZ4DXKAAoJEHVBz6r8NerPtfsQ\n",
            "AJRE5F2wop4UM9JQIEJu77tiVePm8k59n8N1p0FKplmqraZDy4Rb4IKLsLxkQEVt\n",
            "58SgjmUkFnBjwpVDXiKw3ofgwAqaRWeotXVhrfOl746UbAeJ27hALxQqvidcM5bP\n",
            "UAit3BVi1PkpWOGSK+3r2yIRFzb5Os/ac0LQW+RHB3YCHR7z4qDsr8zeRPEoXKbM\n",
            "9xykKCXpQjq5RFq6sVYSufIqeWEW99h3VzTmLZwUPs1Mx+52+upernVJxWDHOwRj\n",
            "zKFA+Rg4zJvdxIFrbedzn2HZiQv0HmNmKtnk6T2lmHjJOuiaMGq9VF26QVNu1a4v\n",
            "q82ocUTx97vuio+Yhfv5t+hU1VQmWLO9S3j/TZD9GguxS12W/eceSVV8xPUgRXpA\n",
            "E4QGCm2NhWPl/qsYFUZAY0HRU2r8IVxZAcDmrjug5IyWY5ZJYugY2MayErrfv56X\n",
            "yBPxb0LWU2YFGOSE2HfXzkU0yxsXq7M5O2muxNwsoDOH+w/3R2BdduFkCoKB/88L\n",
            "VApmwFmpYEFc7JIfUXLBzDTdER8laiLaqL7FLRbjvoW8WU+y9F7c3m868hMCc/x4\n",
            "Gj4vIWJU1hHK6IdmNEPVqGXjgGJfpI5TZJ5mefRUO3DOEC7fBU9gENVEGX4VykPb\n",
            "vF5fFCc2uqEubPO1OZuQLbYd+JX2vA/Yf4NXArtyHNcntDNEaXJrIEVkZGVsYnVl\n",
            "dHRlbCA8ZGlyay5lZGRlbGJ1ZXR0ZWxAUi1Qcm9qZWN0Lm9yZz6IRgQQEQIABgUC\n",
            "Uz61+gAKCRAJlJH3kbDTt7+2AJ9OEkhet/biKHOezN5M313KVEn46gCgkXKJCmSL\n",
            "VXmEhT72GGnzKAI77G6IRgQQEQIABgUCVAdF6QAKCRAVKGX7YnzPld+RAJ0YK/Aa\n",
            "nyx9oA/p9T1/vFWJO6t8IQCfa/bODo20GJMcU9zmbkhg7+k/JpiIRgQQEQgABgUC\n",
            "U0AowgAKCRDbBAoTo9e5vFPgAJkBBjr3n22bSRVQn0GbabCN6DIAagCeJfrmELMA\n",
            "kh+1QgcSJ/A28qgnuFaIRgQQEQgABgUCU1w+PAAKCRB5sBJmk3Ae74u7AJ9u+ydE\n",
            "L4iYQKsHILpzdAzayh2u8gCeO/CxVx7HGOD+PboLoUwuasnZif2IRgQQEQgABgUC\n",
            "VJiNEQAKCRAwVvDvTC0++gvMAJ90k6EAoVqxCeskmFL7AQswEGMNuQCgu4VrwlIr\n",
            "jDVAKaaULjngfr/K8zmIRgQQEQgABgUCVLA2fwAKCRBL/b2mYEX7Hg8HAKCARWiy\n",
            "7Q7c2aA8D3BqBkbfHOuUTACgiM+6LeFn7EZdpVifZgimmpGwwTSJAhsEEAEIAAYF\n",
            "AlNcPVwACgkQWKkizdtdsI4ucQ/4peEf2FkMJ9xSrenLTOSiVs5Xy2+72KdPzP3y\n",
            "WMBmeWDtlAc+iQxsShFGd+jna7jT5Lmg1asj4aMiyrjWxVqQkjukZRfB6wLYNy9/\n",
            "vheVaS5VH1ydokVsXQgxK8YWc4dVuq2/0HdqWfDFHjSB+xOVDZDMksbRa2JNfSmU\n",
            "G0U620JZcaAp5k/zI79kTgNcGzFSkWLwlcaO56pUplu/biM8hWuho0lEcSaPIr4P\n",
            "tNGowESlyuQtFCQnew9Pb2Lm2nb8otPrC6BxQTBLhtqtsu1DFmBFuz8Sqcde/u7f\n",
            "cbF3q4w+GOWEuGU37PUYPW0HcSDMNZbKVia7Re8O6zPYkpe61IXQnUJOWaMAgsGh\n",
            "hqVY9KXehXMnQ+iOhw25ajnnU+szElTSzwB7aGuwxxioKqoRu4HyDx3b/ANtBYt7\n",
            "kH8VzsE2u3Hhpo6iat1CWo8q8PgzLhKCiw0CZ/CkeJQQ9yaC5v73nooOm9sut20Q\n",
            "zPO/fFJmfsI/fW4k6ZNZOzfRhJwtDykBPQHFoBwWb53oVwFMGekgQs3mJHtfT77f\n",
            "rRANvJHskgYBgUV3ClCcyh05LMXlzAb21l77gM/pXjTxqrIkAkBVo/9xUzK3Z1Ek\n",
            "uytK1lEW2RScpCo+J/Ie9wYDXSso3Duj5byqYJmMNoHSe8RL8auukU4JTIZMy7AG\n",
            "H7O4e4kCHAQQAQIABgUCVAvgZAAKCRCc0X1YB8BxOlglD/9gaSbmDW/rIVl0WJcm\n",
            "cKyia8GZBm6xCWCxtoMbS20FBjdt9IGJAqPDUbtarKYznpnt5llUxfA+TciGVmBC\n",
            "s8T32Ad5jLawLIWKhpbudGR3cN67DrknJa+xiPML82Yf0K0UaVzfzT5cfhoFMGUV\n",
            "H2V/fNJUbzck8yBqflhpcuTEc4a0XpylKtiwCQuqif2wWtvAnPA/M/9PrNZN4XJT\n",
            "aDBQbEALwLAeK6grMb6v+cDLSKPh+LB5MD/F7HggWFU9XQnTRbXsUCs1+K2EAVcL\n",
            "uasv8vG/f7QeT4fdgYE0bwTDFa9BFufS12y/KRxX6RVSXvGOF2kCCyUTqZzBM1s6\n",
            "C09sXrKX4pauQdARpfhESHg5a4V87kMd9h3g1f6CSCv/IR3gCTkCerEQ3kevwgwo\n",
            "q7b7wrfOlc35Y752bd8JVM3/tODLfRWDbpmuPC8N19MnSWAFkP/NDBMi0psTUXTH\n",
            "C+eMgWaYEzuCs0d7xC22mKp0SR8/6sBeraK6UGc5YHqPRoYCFli1eaRM7mvCZLth\n",
            "gfLhTeRTMTaOzeEhgnjBvLRJrKi51GFZs+bVwXqPRKMA7eYLV7sUafHi6VfWAioM\n",
            "kw4vpxgtHoOvXT9BJZr9HzYXY+zVTUw3nKQ/5empcb6DeQdwJEfdsn/Hm36wDmJZ\n",
            "s8h9CLXzfSWX9TWJgoOMAcDrc4kCHAQQAQgABgUCU0ApNgAKCRDJ/EG4+Yxmz9eC\n",
            "EACwH5Dh9rcYNV7sGlzrm4QHyHwXvdsLhSGmIi+cbgMulph+MXZwCQnX2GFYNhxe\n",
            "v3mjQlGIF0NaC+94HSBgrrzlReI/uNhL93gO28UbR+FF0ItysPHO1hhIZaAGuWdR\n",
            "JracQntZOXjHSX/+l9VQLtOlUg+skqbk4RIK1FnGemkZYM7Yjq4xkvihcNR0zKYk\n",
            "chREKvEUWujJ+/4yH5y0q6qyDsUlsEWo8vJIU+Rxxm2XRYBniZFC7kFCNIp/euh6\n",
            "fBCCMaM1gMA/TkF7F7iLLN25p2CBLGT7kwRszFitzHrTZjO2Wl9R5OFh+/O2bQ3z\n",
            "MH13Ef/tp5iihy+gWiuIhnvZTeY+xU3S4PqGCvi+e+aLw3cZ1IJCZg1MQK2oL7er\n",
            "kRmDXkt6EP2z+VZzmbU/2TTc/5CgPeqtgzBkKFtvNCTyV15sv7R3/RXw58ylq3Ai\n",
            "Kk1cSfEAWMSy2+OPa+TbiEfklunW8WxUsjuChv5n7FE2JTSHwSKGArS8jYbUYJ/+\n",
            "lnzr8Ko/2DCyYbkhuid4u0DBEL7VeSNuskirqpJqQV7/MBxLL2pbVH6wVyBYpRMY\n",
            "gBNFMUDJ8oE17ESTqmmc0rP5EJCQwBOUUrsDXI/8wNJdFpngXei4V9q6j2BXhZnA\n",
            "TGageKB0+lchm1iQiU+aVIQGkqJWQqT96j4L9PiUCDqXkokCHAQQAQgABgUCVJSY\n",
            "8AAKCRAKUEL0l1EDHEgJD/4rPO6/4d99lUxVesi/5qSozB/7UCeFyPIQXDU8QqOC\n",
            "JAQ1qutPWbVdXpIPq6Tk8rHVxYF7T4Lds3CAs0DjLdlB43QEpGYup+hRwBQdsIYx\n",
            "FL0KqPZ2qmcsus/ZMbvqffiuRj5wPCQ1Rgf3eIRkrXVWohuRk1XVLlXSRYLzWx1F\n",
            "mgBLBaRKxMxRaU87Z8ngA8ESwnD+kKCAM8mN2vdIOUYGzDTjzZeBi4BQWJBJa+RK\n",
            "9geAlv0DWd9mASKiegvL9Rh333DuVkEm62m1oeTiSgqDgnhBiGPjMXvxVNeBYUys\n",
            "j/u/4EA0K+zvg7QNjiYFENaWyPUR3p02JDbv4GVj8gh4Mt+11yYaycsV7XgqQvJO\n",
            "CxoHjjAQR07lWUi5L2YicsafnUJf5om5aRrg51G3bpa4Y6zbnrDl/EfVapV1Athf\n",
            "0JnnLbTo7rD5wRG+8RSmWfTtVOdl+6C+6B33XfRVpqh+5ui59gUUM1scesgxez0U\n",
            "mBRDWde5xohRvU8YwGZJl4VPyCM6BY8eFIwno0PcRVs+8p1HK6bQB6FPjYJNJYLP\n",
            "fGfsx/OSpoa56Bh53nsq+1HEESIdwvfKVO/7rFQzxM2ijbHCOkhK0FPNgyrh0JCH\n",
            "56j/97My3oeafw/HtT0jmIaQkP7VEnlhHC0DhIdmNyz1gzATglWZlNeWlqX3ctdJ\n",
            "YYkCHAQQAQgABgUCVLA18AAKCRC/oo+Ln8iuc+MPD/9BMqf7LWf9sCabDhOSXfql\n",
            "EFzXWwWrrPCXkUL/KK1kHf9BVbDY0lr47rDRXP3q/uIV/WDOXZ2sbZdS4VRKyshN\n",
            "Rzz/XK9W6/wbfyidemD3bJdd3wqH80XRz2qc5yThTme3fLuBg/bjdrlht4Oh7Lsh\n",
            "R0oXOh9a1CijWtdflL/IRMOzQJnqHhqRjLUduM1NrhSbrEecH9MOSJlFoRVeyI7+\n",
            "yIikOCyOlEuLLq1CeZiydhQpoetGKOnwzpfUmm/B/jnxczoe7dS1PqVxPVZAz6Jy\n",
            "Kcu8xqaJtuzrES4eAS7vz2bMAqnkhx3yOa7BNQ8ZF0KRdQmanpefNR7LVfGYgZxl\n",
            "DspO/D2tGZIXuAHauztviRkW1ZqE8opxvUjVEkyj/yOAzApuH/lU/+nLQO2MScvL\n",
            "HXd5C2TmHAFXjXzLfCoZPLGZC9VUJh04rLbaHZn3lPw5xm1HRCYBf7+5V+ojp9JU\n",
            "BrcnUbRAvC0lN5Fi3KGIqnIBwRk9lEzaD/izmxmcUa516ZPXPkiBxDE/3nWs6lI2\n",
            "UgINl9WPWVQGjxptDu7uu4mApiLG2MIAijYP2N9wUrZJ8g5hWKiO+2ovoMBLtPB8\n",
            "T/tUGGTRACZ80HJo2Z0Zc8yqDR+VkINq92XAUb9mVV0j94qNNOjMiEEhyBgzQ3c0\n",
            "Dfcl4bHQzb8nO6+Xy9zo4YkCMwQQAQgAHRYhBH1q23UPkQhViUhL5nfAx157ZQgI\n",
            "BQJYrZ5OAAoJEHfAx157ZQgIytoP/1aDfUhxWNDxMSAw/Vaxlo6okJ5FmXCbTCyH\n",
            "IJicy24HMpMdJhshSl2lYLe45W0oHdeTet3ZkBVC9sHqr8ESzQBySwG43USH+m+y\n",
            "m1gDp6c2D8zrSvpKihaFez//oJ/7rIXitlEv0S9jO1w29OfsKL8ONc4np3VrXR1k\n",
            "9JsyZoPy2vrRkseS9ZIWXidk5AVBM3yoDaTCyvSPlQ+n5FOAjIXJLJkfHuWsrkej\n",
            "PJr97Rs+7sTZnZWT+3V8hmYpQfepqkFLiMhKLVuBkqRS4ncdvBns3hI1dd+nbS4p\n",
            "XEOaBSW+TDw/JE9COfbnbPjNAqYHZ5FGTr1PwEAmIHYvE02KdyhsElKjmjJohdzL\n",
            "9OYr9v17yuyo3c6Seyk6JCvap5tHqRvjcjwJo5ZHYew37MBZ+pnDpqHlv/D0p6zV\n",
            "S7Mp4HcfjiguDO4SDUNKwtEvcrLC3UWwfF/eUeAa4QKQhiTKXDsYdkYRZ8CW840D\n",
            "VJfxtutsmI98dlmz2nBTgyNxpueWIGLZAg6X+g83boGHJRBdDPfN90ggaIUG/eYS\n",
            "zyhlvpTCw2HkEv6yx5EiSpnUy64nznVdbhzwxYPCaoCZhSicMx8LT7vp/y3UX97o\n",
            "gpv7xXjFrz8Y+ueGfYbHOnm+bOomhHVGfnSzezFg8YcyLeEA68UIO3d7KUmfH7sD\n",
            "dcflJjfTiQI4BBMBAgAiBQJTPrMcAhsDBgsJCAcDAgYVCAIJCgsEFgIDAQIeAQIX\n",
            "gAAKCRChSJ/iq5miGnlTEACtqRHgpTGN36HB0sNzG21jpLSpVdnRNYtsxyTFuNRz\n",
            "Yoi0sjRQVUcvgqNb129f4HvLQIC1ysVitLQRSd2aIyLa0xTFqG7PTbbdVIaJIGiG\n",
            "8MWA0wHdcW5YTf6DFMr3dCHGKKkIdJGi0M4z1Ge3TuMFiMm0J5y9yQ500xJvXBF4\n",
            "7F1q7WYYi1tEus6IatU/77qLKhXBs+9iPWs2ix4Hxr0T8YM82ujMhvdwXHk/X+g4\n",
            "JVsG/b9g5tvYP6vNZWA3OOaGJZoT0ZIP2/Aa+XZqlyCZmS2wm5Hu52rNtqJ1KUeI\n",
            "a2oOFnIke09pM337Cis3XK45ZyRSrbxFPxNHPIJugvDu9bMQ1wwaDpYN2ceFFOzy\n",
            "5sWXGVsHqf2p0nGhTkRTpzLP4IMzNf2pB4Vx8fbS+w0Bj3o7EJSm09daGdrFs66/\n",
            "x/VLYudOryv/rjLVXzYsCCe3GoHKmEr29ZZKQcmOv4JAbw0BmtkAAN1+mrL9X2Zr\n",
            "U3d7JHtjsqwCKTuluRMmmShgoNtWh4SCIitwwb3J5FLva93oodup6MHqqzQ8lkl5\n",
            "PIAGhbZhYLW+SaK5/IdQzAl4FDCCGK4/4369YvpK6RfhUAdWG/HsJVQXdTKuJfCl\n",
            "GXmDeuUwXZDFEXeeSjCvd5RZ4UA3I/Yk6TktEhZT2Zh3FrLQZFhLfwaETvE3x6rg\n",
            "rYkCMwQQAQgAHRYhBAu+7vBk6Uq+hDJYtHVBz6r8NerPBQJZ4DXKAAoJEHVBz6r8\n",
            "NerPP0YQALqf1obDiraLNVdYjiMDhuYDNbfodTZngMkkVZjQexHvYRxxVjaw7KBq\n",
            "vAsZxxyJ5af1oMFHLEdLi7538XtLpcyw/l2NFfUGN1Da2bJ+xnCL8xK6A1ROYgnH\n",
            "wgH851r/ahQjO7vvuVrKME1on2wSWFFheYa8wE0iNKzYNqn1oHTKccNLnUPoDtjC\n",
            "fs+vg/OjGjJ3vUAoSjn5GGp8WS1m7iigvVKOvf5iEOQyMhDcg2c4b40K1LmtRLNs\n",
            "nW6kL+sYQ7lLGE4GcD4rcTHSggu94s8I600UsXo1OefY7plm+rsujkgcfOfhWy5v\n",
            "kEdJHil0eG2uL9dXxqyOF0vdwvv13pSXnVL66QJ154n2RfxUwUQbhpk7voCiaIM2\n",
            "jHAD+7C5bueMgB7K9Xze9haetrp4pFwrDKjMnmSiwSUZH/8ohZRg4FP6BB4RbxfL\n",
            "nGylQxjXEfCdf+6UYwZccRQ0OtW8SvylTRGHHEZGR3Eb3jKK574Y5CZTwX+O8UO+\n",
            "+Y2M2IED7SEfYB8esDKaSBeA45BpeeAzLp1/cewbNJrGfhLihcW08ssmdfNKj6Hg\n",
            "iQp63e6dEXwMeRqiP8n1dQvRkVuMnhpjry2F9yQwzwyGgpLwiBtNY320M2h+dALA\n",
            "JsgKXSQhGLnKGwZbyw3Xn6r+0IdNXbfBJ9mxzAvVFRhvSwSJZbWluQINBFM+sY8B\n",
            "EADhjxWFMGpto55PFbNFDxfFHzSnZHvdvDFziMPhchNZB2UQvGvMC3p/v2MMu+Jt\n",
            "eou1a41mqbQw9piEGuWPLX4v3HfQGrGwQLMXut7ldKudujbr3AKAS2z/NTosVOoX\n",
            "3pSzbAYukrWuetdg/4drvn3aNxP7L2zu+b+OYQoGw/cQXAxmdmpbB94NoctZt/5A\n",
            "T07Y3DEv/6R3k3ZP9vB78ylHkfza8LWNeBqE/fhUDSTXM2Yr1RimcYudTT/9g1Za\n",
            "+/yg6Zaxgs7nWqQA9tjkoJ8CoE2JMhCBbHwugjjz8BeHXNK7I9EAQnQe1PCWgclt\n",
            "ii3nArjmVwcHkwN3n5L3JLDsL8zUVNOFkzPDp8ovMN6HHqNtVTe0XTVcKeio9fGw\n",
            "CggfZBAXEOUu8CNdPf6JrrUihyyLyGJ5a+T5jQ8KjSn/sgF95eurG9dZKnbWDlfy\n",
            "ewZl2q/KqmFFogdtlm6m49OpfHgG92rGZtm0exbn2TeafLCZCGPTvqPJpBKqfL6g\n",
            "SWbD8WmgjFbMAQ8Kn7vuGqI1IkATXGsnnCSSBg6UxRZAJYeiNjDfGrgOSBSoih18\n",
            "babkaZPAw8gZqZEAX1blnxO86FYrd67g73DegVLecrTx7Y5atwS5osbVWZr7iatS\n",
            "W/IxZL8tRWmk6/tYQw1o7qcZ6mTlgWjaRqHCx0Q3gJHaZQARAQABiQIfBBgBAgAJ\n",
            "BQJTPrGPAhsMAAoJEKFIn+KrmaIaNCMP/jqIu/HFbLeFJ6sh9dC+DTxFgZV0pr7R\n",
            "yFtERfBYwyhGJggV3rklWXnmPCvggCh7FBXPzQaLYj+Ebkg44RlNyTTqwiG6QyG+\n",
            "94BbtoOgcP54ZIeKGmoqyMs7hpKv3jF4i8YkhFBkmd9x2iGBHWyJ/hibZ11l+us5\n",
            "86D7ue9UKKvpSyqwvA+lVQ3wz3tgj/A/baIKDkHfTjyGpTDP9R7qKMiXDEEL5idE\n",
            "PceoUr3vdw2ziF9RkJ5Tqp4bISMmOHUiSWDmhoKBqmmm1/jyfWsPq33wdhliCKm8\n",
            "QsAXHAbYQ8ZSBbnpEkg42C2JBJ/MVm/HcgOaYhyba5KE69Us8zqw91CngodwDQXa\n",
            "nrZXOaA4/H4sUnyg0ucP3YvhL0y1NjH1rfrZ2318wyS40yKkHVkU2sWB6HeNfkJu\n",
            "Nflx37ptkvguTHVF5B+jD9LS5djUGANCYtvRK0jRwCPdqVUgBIb2obr0kmGovXnE\n",
            "Pmn9UZoqDqSm5FY80Rj6ElPSQso0rB9oI2QkNrZaCSezvu6SW2Tzm2b/ceuGz/+r\n",
            "ARLZNqmAFO8oUDjrCw45Dy4ne53e+Vqduvx1Q76LuoUnE2YGqOVGFzT0QLas+oMJ\n",
            "VJl6GRFKtZoRFEhMxDFf2mUSgis4mSjwMZI4pl0YmzDDM8IN/i+P2dFrRr1AkA89\n",
            "I5rGSOk715L9\n",
            "=VuA5\n",
            "-----END PGP PUBLIC KEY BLOCK-----\n",
            "Hit:1 https://cloud.r-project.org/bin/linux/ubuntu jammy-cran40/ InRelease\n",
            "Hit:2 https://developer.download.nvidia.com/compute/cuda/repos/ubuntu2204/x86_64  InRelease\n",
            "Hit:3 http://security.ubuntu.com/ubuntu jammy-security InRelease\n",
            "Hit:4 http://archive.ubuntu.com/ubuntu jammy InRelease\n",
            "Ign:5 https://r2u.stat.illinois.edu/ubuntu jammy InRelease\n",
            "Hit:6 https://r2u.stat.illinois.edu/ubuntu jammy Release\n",
            "Hit:7 http://archive.ubuntu.com/ubuntu jammy-updates InRelease\n",
            "Hit:8 http://archive.ubuntu.com/ubuntu jammy-backports InRelease\n",
            "Hit:10 https://ppa.launchpadcontent.net/deadsnakes/ppa/ubuntu jammy InRelease\n",
            "Hit:11 https://ppa.launchpadcontent.net/graphics-drivers/ppa/ubuntu jammy InRelease\n",
            "Hit:12 https://ppa.launchpadcontent.net/ubuntugis/ppa/ubuntu jammy InRelease\n",
            "Reading package lists...\n",
            "Building dependency tree...\n",
            "Reading state information...\n",
            "52 packages can be upgraded. Run 'apt list --upgradable' to see them.\n",
            "-----BEGIN PGP PUBLIC KEY BLOCK-----\n",
            "\n",
            "mQENBEy9tcUBCACnWQfqdrcz7tQL/iCeWDYSYPwXpPMUMLE721HfFH7d8ErunPKP\n",
            "Iwq1v4CrNmMjcainofbu/BfuZESSK1hBAItOk/5VTkzCJlzkrHY9g5v+XlBMPDQC\n",
            "9u4AE/myw3p52+0NXsnBz+a35mxJKMl+9v9ztvueA6EmLr2xaLf/nx4XwXUMSi1L\n",
            "p8i8XpAOz/Xg1fspPMRhuDAGYDnOh4uH1jADGoqYaPMty0yVEmzx74qvdIOvfgj1\n",
            "6A/9LYXk67td6/JQ5LFCZmFsbahAsqi9inNgBZmnfXO4m4lhzeqNjJAgaw7Fz2zq\n",
            "UmvpEheKKClgTQMWWNI9Rx1L8IKnJkuKnpzHABEBAAG0I01pY2hhZWwgUnV0dGVy\n",
            "IDxtYXJ1dHRlckBnbWFpbC5jb20+iQFVBBMBCgA/AhsjBgsJCAcDAgYVCAIJCgsE\n",
            "FgIDAQIeAQIXgBYhBOKYo6glwNZd/VfLtlFxZhnghNq5BQJfdcXRBQkf4HiMAAoJ\n",
            "EFFxZhnghNq5Nj8IAIqCTIJ/tMjZqiuwe7M4DQjpvGn4/QylkYLxn9dOds2nGz82\n",
            "FAukEAR3tmi22TETrqm+UOukFYUnAEOez7BJiWPwCDt9WuD4/Be8rzbjL0wEv/xu\n",
            "D1JHWxVd2DfbJG1PAsuv7ouFYbIdh24a8gYpasd6twdbPOdZa0mbzVOnwAmHiH1l\n",
            "gv2oY/McOO7unc/YGuD2lTb5ohK8yYdHsL5WYK7REPGqEGBS+ppUPWjI1qQb/g2X\n",
            "oSVfbLLiXiwdvBS4hzjiwGNe76B2jDuHsfmQFMdVpOzNKN0dk10Nm8MFFPrirUIl\n",
            "Uwk45UttOrcrs5hluLYZhMYHPJ/UNYnaJeJH58iJAT4EEwECACgFAky9tcUCGyMF\n",
            "CQlmAYAGCwkIBwMCBhUIAgkKCwQWAgMBAh4BAheAAAoJEFFxZhnghNq5PL0H/iGY\n",
            "9DsJKrDk5Lm3xTnLfwGWod+WoV6/eWVfrywO3Nh/FC5BVLd/E4GgaYVD8tJ9dBiE\n",
            "MboFlricO4NkSBvzUy+PQMkOXiWbIx0Ggi9eG90Q8N3+us4b7W3b5Ljb1b00g5sp\n",
            "pkKz1pu/Z+ciGu3IBbFz+I1HmsmY1ejO8lUYCAB42EFKu9moVo8n/8GSVsmF9WA3\n",
            "C3gaC0WXW9pTssxoys5YD0fJ3x1YAa4iFthc44WPVZn86FSVheewh7xfNonXLovJ\n",
            "WQIuFon4xW0bBNesVdGEEtCWEJgF87bmL88ZRZK9GEjyf+v5Ew067LUeUVt7FFiu\n",
            "09c4tuI7wCUW4ixf2dG5AQ0ETL21xQEIANhwKBAIIXVZRKftz9Vc2+CZfO+/eVVf\n",
            "1aRXhB2lwleK1eCVd1NnBXEa/cDEO5osTDFbutuopE/NY2OPjFMfG3Zi1SMT6YtX\n",
            "nwAVpBBTdqV1gbwk+vZ6iEw1mqnYEbah1zPDl5o7mXkROMLWcdSMNSby6zdNXcBc\n",
            "5qMCOC4a+kbcMqfH+Ca52swFVIAQTriR5/IGZJHrzfOReHD42BtMgP1dbU5KoT58\n",
            "tB/RnNASiMx19gh5XxDmwwCZTcn0B2WnIOtlphGaKmGDDw9lMxqGHP+joHPunpWo\n",
            "Dg1yavbbmee0iyNRTPSIrpOxo6L0qsXbdHD4gNQl5iR1VvAapq+AkbUAEQEAAYkB\n",
            "PAQYAQoAJgIbDBYhBOKYo6glwNZd/VfLtlFxZhnghNq5BQJfdcYKBQkf4HjFAAoJ\n",
            "EFFxZhnghNq5J2MH/13zMlB45Qire0mklv3z/Q0HVHTgV8QTRWNdb2GTOQAWQjJZ\n",
            "rupkz/MlwmFejoSJo1uM/Dhb19PNnLyVQ7onHBd7+aeKJ+Tbzlw2dHkgjO3bkRVF\n",
            "VBg0U2xg5a7NXlqSoaAzWi+py6bQR+Qj1AIbZNL9s24LSUfazPc2hO7TsNQoOUCG\n",
            "BQ8zvot2oRXOe/4lOmjaYFTb13KXr5ozrKzkm66p07QM5lXmrdsgterKUDdf00+z\n",
            "EXG+vo+j5qnz77TghahivkZip3FwW5APP+/8fWrQRSMzBToFWGZuLri4uef+P/7D\n",
            "2jiqon7LxHKcTkL+MajTgwrtuH5bI7hL2445uew=\n",
            "=xbQ3\n",
            "-----END PGP PUBLIC KEY BLOCK-----\n",
            "Executing: /tmp/apt-key-gpghome.HVWCCeNEL4/gpg.1.sh --keyserver keyserver.ubuntu.com --recv-keys 67C2D66C4B1D4339 51716619E084DAB9\n",
            "52 packages can be upgraded. Run 'apt list --upgradable' to see them.\n",
            "Reading package lists...\n",
            "Building dependency tree...\n",
            "Reading state information...\n",
            "r-base-core is already the newest version (4.4.1-1.2204.0).\n",
            "0 upgraded, 0 newly installed, 0 to remove and 52 not upgraded.\n",
            "Reading package lists...\n",
            "Building dependency tree...\n",
            "Reading state information...\n",
            "make is already the newest version (4.3-4.1build1).\n",
            "make set to manually installed.\n",
            "python3-dbus is already the newest version (1.2.18-3build1).\n",
            "python3-dbus set to manually installed.\n",
            "python3-apt is already the newest version (2.4.0ubuntu3).\n",
            "python3-apt set to manually installed.\n",
            "python3-gi is already the newest version (3.42.1-0ubuntu1).\n",
            "python3-gi set to manually installed.\n",
            "0 upgraded, 0 newly installed, 0 to remove and 52 not upgraded.\n",
            "* installing /usr/share/dbus-1/system-services/org.r_project.linux1.service\n",
            "* installing /etc/dbus-1/system.d/org.r_project.linux1.conf"
          ]
        },
        {
          "output_type": "stream",
          "name": "stderr",
          "text": [
            "Tracing function \"install.packages\" in package \"utils\"\n",
            "\n",
            "There are missing packages: R.utils\n",
            "\n",
            "\n",
            "Attaching package: ‘R.oo’\n",
            "\n",
            "\n",
            "The following object is masked from ‘package:R.methodsS3’:\n",
            "\n",
            "    throw\n",
            "\n",
            "\n",
            "The following objects are masked from ‘package:methods’:\n",
            "\n",
            "    getClasses, getMethods\n",
            "\n",
            "\n",
            "The following objects are masked from ‘package:base’:\n",
            "\n",
            "    attach, detach, load, save\n",
            "\n",
            "\n",
            "\n",
            "Attaching package: ‘R.utils’\n",
            "\n",
            "\n",
            "The following object is masked from ‘package:utils’:\n",
            "\n",
            "    timestamp\n",
            "\n",
            "\n",
            "The following objects are masked from ‘package:base’:\n",
            "\n",
            "    cat, commandArgs, getOption, isOpen, nullfile, parse, use, warnings\n",
            "\n",
            "\n"
          ]
        }
      ],
      "source": [
        "## Instalação r2u\n",
        "\n",
        "shell_call <- function(command, ...) {\n",
        "  result <- system(command, intern = TRUE, ...)\n",
        "  cat(paste0(result, collapse = \"\\n\"))\n",
        "}\n",
        "\n",
        "download.file(\"https://github.com/eddelbuettel/r2u/raw/master/inst/scripts/add_cranapt_jammy.sh\",\n",
        "              \"add_cranapt_jammy.sh\")\n",
        "Sys.chmod(\"add_cranapt_jammy.sh\", \"0755\")\n",
        "shell_call(\"./add_cranapt_jammy.sh\")\n",
        "bspm::enable()\n",
        "options(bspm.version.check=FALSE)\n",
        "shell_call(\"rm add_cranapt_jammy.sh\")\n",
        "\n",
        "## Preparando acesso ao Google Drive\n",
        "loadPackages = function(pkgs){\n",
        "  myrequire = function(...){\n",
        "    suppressWarnings(suppressMessages(suppressPackageStartupMessages(require(...))))\n",
        "  }\n",
        "  ok = sapply(pkgs, require, character.only=TRUE, quietly=TRUE)\n",
        "  if (!all(ok)){\n",
        "    message(\"There are missing packages: \", paste(pkgs[!ok], collapse=\", \"))\n",
        "    install.packages(pkgs[!ok])\n",
        "    loadPackages(pkgs[!ok])\n",
        "  }\n",
        "}\n",
        "\n",
        "loadPackages(c(\"googledrive\", \"httpuv\", \"R.utils\", \"httr\"))\n",
        "\n",
        "my_check = function() TRUE\n",
        "reassignInPackage(\"is_interactive\", pkgName=\"httr\", my_check)\n",
        "options(rlang_interactive=TRUE)"
      ]
    },
    {
      "cell_type": "code",
      "source": [],
      "metadata": {
        "id": "L7pRpD3JSmHc"
      },
      "execution_count": null,
      "outputs": []
    },
    {
      "cell_type": "code",
      "source": [
        "## O comando abaixo permite acesso ao Google Drive\n",
        "drive_auth(use_oob=TRUE, cache=FALSE)"
      ],
      "metadata": {
        "id": "DQUfaejib2Cv"
      },
      "execution_count": null,
      "outputs": []
    },
    {
      "cell_type": "markdown",
      "source": [
        "1. Baixe o arquivo disco.db e armazene na variável path o caminho completo (pasta) na qual o arquivo foi gravado. Utilize o comando file.path() para combinar a variável path com o nome do arquivo (disco.db) e obter o nome do arquivo com seu respectivo caminho. Armazene este resultado na variável fname.\n",
        "\n"
      ],
      "metadata": {
        "id": "ud9-2IloSuEn"
      }
    },
    {
      "cell_type": "code",
      "source": [
        "path = \"https://me315-unicamp.github.io/dados/disco.db\"\n",
        "fname = file.path(path,\"disco.db\")\n",
        "download.file(path,\"disco.db\")"
      ],
      "metadata": {
        "id": "rOKzOJuKSvlN"
      },
      "execution_count": null,
      "outputs": []
    },
    {
      "cell_type": "code",
      "source": [
        "file.exists(\"disco.db\")"
      ],
      "metadata": {
        "colab": {
          "base_uri": "https://localhost:8080/",
          "height": 34
        },
        "id": "Ja7eEXWkTDge",
        "outputId": "ffdd5dfe-d950-43f8-db31-3da8ccfa5b5e"
      },
      "execution_count": null,
      "outputs": [
        {
          "output_type": "display_data",
          "data": {
            "text/html": [
              "TRUE"
            ],
            "text/markdown": "TRUE",
            "text/latex": "TRUE",
            "text/plain": [
              "[1] TRUE"
            ]
          },
          "metadata": {}
        }
      ]
    },
    {
      "cell_type": "markdown",
      "source": [
        "2. Utilizando o pacote RSQLite, conecte-se ao arquivo de banco de dados. Armazene a conexão na variável conn."
      ],
      "metadata": {
        "id": "kXnrfILYVUbL"
      }
    },
    {
      "cell_type": "code",
      "source": [
        "install.packages(\"RSQLite\")\n",
        "library(RSQLite)\n",
        "library(dplyr)\n",
        "library(tidyverse)\n",
        "conn = dbConnect(SQLite(), \"disco.db\")"
      ],
      "metadata": {
        "id": "N1NeeDqyS50G"
      },
      "execution_count": null,
      "outputs": []
    },
    {
      "cell_type": "markdown",
      "source": [
        "3. Liste as tabelas existentes no banco de dados."
      ],
      "metadata": {
        "id": "czFBB3f7VX9r"
      }
    },
    {
      "cell_type": "code",
      "source": [
        "length(dbListTables(conn))\n",
        "tabs = dbListTables(conn)"
      ],
      "metadata": {
        "colab": {
          "base_uri": "https://localhost:8080/",
          "height": 52
        },
        "id": "vP4Q3GWlVarh",
        "outputId": "fa38739f-f528-4eea-c249-67aec3dc22ec"
      },
      "execution_count": null,
      "outputs": [
        {
          "output_type": "display_data",
          "data": {
            "text/html": [
              "13"
            ],
            "text/markdown": "13",
            "text/latex": "13",
            "text/plain": [
              "[1] 13"
            ]
          },
          "metadata": {}
        },
        {
          "output_type": "display_data",
          "data": {
            "text/html": [
              "<style>\n",
              ".list-inline {list-style: none; margin:0; padding: 0}\n",
              ".list-inline>li {display: inline-block}\n",
              ".list-inline>li:not(:last-child)::after {content: \"\\00b7\"; padding: 0 .5ex}\n",
              "</style>\n",
              "<ol class=list-inline><li>'albums'</li><li>'artists'</li><li>'customers'</li><li>'employees'</li><li>'genres'</li><li>'invoice_items'</li><li>'invoices'</li><li>'media_types'</li><li>'playlist_track'</li><li>'playlists'</li><li>'sqlite_sequence'</li><li>'sqlite_stat1'</li><li>'tracks'</li></ol>\n"
            ],
            "text/markdown": "1. 'albums'\n2. 'artists'\n3. 'customers'\n4. 'employees'\n5. 'genres'\n6. 'invoice_items'\n7. 'invoices'\n8. 'media_types'\n9. 'playlist_track'\n10. 'playlists'\n11. 'sqlite_sequence'\n12. 'sqlite_stat1'\n13. 'tracks'\n\n\n",
            "text/latex": "\\begin{enumerate*}\n\\item 'albums'\n\\item 'artists'\n\\item 'customers'\n\\item 'employees'\n\\item 'genres'\n\\item 'invoice\\_items'\n\\item 'invoices'\n\\item 'media\\_types'\n\\item 'playlist\\_track'\n\\item 'playlists'\n\\item 'sqlite\\_sequence'\n\\item 'sqlite\\_stat1'\n\\item 'tracks'\n\\end{enumerate*}\n",
            "text/plain": [
              " [1] \"albums\"          \"artists\"         \"customers\"       \"employees\"      \n",
              " [5] \"genres\"          \"invoice_items\"   \"invoices\"        \"media_types\"    \n",
              " [9] \"playlist_track\"  \"playlists\"       \"sqlite_sequence\" \"sqlite_stat1\"   \n",
              "[13] \"tracks\"         "
            ]
          },
          "metadata": {}
        }
      ]
    },
    {
      "cell_type": "code",
      "source": [
        "4. Identifique os nomes de todas as colunas existentes na tabela customers."
      ],
      "metadata": {
        "id": "Yvd3ZqhaV9b4"
      },
      "execution_count": null,
      "outputs": []
    },
    {
      "cell_type": "code",
      "source": [
        "dbListFields(conn,\"customers\")"
      ],
      "metadata": {
        "colab": {
          "base_uri": "https://localhost:8080/",
          "height": 34
        },
        "id": "o0crRwz9V-Vv",
        "outputId": "c586b5ce-0b35-4cb2-f4f6-a7c6c2ed0b90"
      },
      "execution_count": null,
      "outputs": [
        {
          "output_type": "display_data",
          "data": {
            "text/html": [
              "<style>\n",
              ".list-inline {list-style: none; margin:0; padding: 0}\n",
              ".list-inline>li {display: inline-block}\n",
              ".list-inline>li:not(:last-child)::after {content: \"\\00b7\"; padding: 0 .5ex}\n",
              "</style>\n",
              "<ol class=list-inline><li>'CustomerId'</li><li>'FirstName'</li><li>'LastName'</li><li>'Company'</li><li>'Address'</li><li>'City'</li><li>'State'</li><li>'Country'</li><li>'PostalCode'</li><li>'Phone'</li><li>'Fax'</li><li>'Email'</li><li>'SupportRepId'</li></ol>\n"
            ],
            "text/markdown": "1. 'CustomerId'\n2. 'FirstName'\n3. 'LastName'\n4. 'Company'\n5. 'Address'\n6. 'City'\n7. 'State'\n8. 'Country'\n9. 'PostalCode'\n10. 'Phone'\n11. 'Fax'\n12. 'Email'\n13. 'SupportRepId'\n\n\n",
            "text/latex": "\\begin{enumerate*}\n\\item 'CustomerId'\n\\item 'FirstName'\n\\item 'LastName'\n\\item 'Company'\n\\item 'Address'\n\\item 'City'\n\\item 'State'\n\\item 'Country'\n\\item 'PostalCode'\n\\item 'Phone'\n\\item 'Fax'\n\\item 'Email'\n\\item 'SupportRepId'\n\\end{enumerate*}\n",
            "text/plain": [
              " [1] \"CustomerId\"   \"FirstName\"    \"LastName\"     \"Company\"      \"Address\"     \n",
              " [6] \"City\"         \"State\"        \"Country\"      \"PostalCode\"   \"Phone\"       \n",
              "[11] \"Fax\"          \"Email\"        \"SupportRepId\""
            ]
          },
          "metadata": {}
        }
      ]
    },
    {
      "cell_type": "markdown",
      "source": [
        "5. Utilizando apenas SQLite, com o apoio do comando dbGetQuery, identifique quantos clientes estão atualmente cadastrados neste banco de dados."
      ],
      "metadata": {
        "id": "dtXLqk-DWier"
      }
    },
    {
      "cell_type": "code",
      "source": [
        "(dbGetQuery(conn,\"SELECT COUNT(CustomerId) FROM customers\"))"
      ],
      "metadata": {
        "colab": {
          "base_uri": "https://localhost:8080/",
          "height": 129
        },
        "id": "W8PfyJNUWkra",
        "outputId": "56c824b3-9be3-4c3a-e157-3d3cad916653"
      },
      "execution_count": null,
      "outputs": [
        {
          "output_type": "display_data",
          "data": {
            "text/html": [
              "<table class=\"dataframe\">\n",
              "<caption>A data.frame: 1 × 1</caption>\n",
              "<thead>\n",
              "\t<tr><th scope=col>COUNT(CustomerId)</th></tr>\n",
              "\t<tr><th scope=col>&lt;int&gt;</th></tr>\n",
              "</thead>\n",
              "<tbody>\n",
              "\t<tr><td>59</td></tr>\n",
              "</tbody>\n",
              "</table>\n"
            ],
            "text/markdown": "\nA data.frame: 1 × 1\n\n| COUNT(CustomerId) &lt;int&gt; |\n|---|\n| 59 |\n\n",
            "text/latex": "A data.frame: 1 × 1\n\\begin{tabular}{l}\n COUNT(CustomerId)\\\\\n <int>\\\\\n\\hline\n\t 59\\\\\n\\end{tabular}\n",
            "text/plain": [
              "  COUNT(CustomerId)\n",
              "1 59               "
            ]
          },
          "metadata": {}
        }
      ]
    },
    {
      "cell_type": "markdown",
      "source": [
        "6. Utilizando apenas SQLite, identifique o número de países diferentes em que moram os clientes encontrados acima."
      ],
      "metadata": {
        "id": "gewvwjnZXRy7"
      }
    },
    {
      "cell_type": "code",
      "source": [
        "(dbGetQuery(conn,\"SELECT COUNT(DISTINCT Country) FROM customers ORDER BY CustomerID\"))"
      ],
      "metadata": {
        "colab": {
          "base_uri": "https://localhost:8080/",
          "height": 129
        },
        "id": "F4vXiMiDXTlb",
        "outputId": "ceedf9db-b95f-42f0-debc-00c36736088b"
      },
      "execution_count": null,
      "outputs": [
        {
          "output_type": "display_data",
          "data": {
            "text/html": [
              "<table class=\"dataframe\">\n",
              "<caption>A data.frame: 1 × 1</caption>\n",
              "<thead>\n",
              "\t<tr><th scope=col>COUNT(DISTINCT Country)</th></tr>\n",
              "\t<tr><th scope=col>&lt;int&gt;</th></tr>\n",
              "</thead>\n",
              "<tbody>\n",
              "\t<tr><td>24</td></tr>\n",
              "</tbody>\n",
              "</table>\n"
            ],
            "text/markdown": "\nA data.frame: 1 × 1\n\n| COUNT(DISTINCT Country) &lt;int&gt; |\n|---|\n| 24 |\n\n",
            "text/latex": "A data.frame: 1 × 1\n\\begin{tabular}{l}\n COUNT(DISTINCT Country)\\\\\n <int>\\\\\n\\hline\n\t 24\\\\\n\\end{tabular}\n",
            "text/plain": [
              "  COUNT(DISTINCT Country)\n",
              "1 24                     "
            ]
          },
          "metadata": {}
        }
      ]
    },
    {
      "cell_type": "markdown",
      "source": [
        "7. Utilizando apenas SQLite, quantos clientes existem por país? A tabela resultante deve conter o nome do país e a respectiva contagem, além de ser ordenada de maneira decrescente pela referida contagem."
      ],
      "metadata": {
        "id": "32kgfLFfYHtL"
      }
    },
    {
      "cell_type": "code",
      "source": [
        "(dbGetQuery(conn,\"SELECT Country,COUNT(CustomerID) AS n FROM customers GROUP BY Country ORDER BY n DESC\"))"
      ],
      "metadata": {
        "colab": {
          "base_uri": "https://localhost:8080/",
          "height": 851
        },
        "id": "FjHTlFbkYJOT",
        "outputId": "5adb5dda-42b3-48dd-ebb1-79f6c9bb0d48"
      },
      "execution_count": null,
      "outputs": [
        {
          "output_type": "display_data",
          "data": {
            "text/html": [
              "<table class=\"dataframe\">\n",
              "<caption>A data.frame: 24 × 2</caption>\n",
              "<thead>\n",
              "\t<tr><th scope=col>Country</th><th scope=col>n</th></tr>\n",
              "\t<tr><th scope=col>&lt;chr&gt;</th><th scope=col>&lt;int&gt;</th></tr>\n",
              "</thead>\n",
              "<tbody>\n",
              "\t<tr><td>USA           </td><td>13</td></tr>\n",
              "\t<tr><td>Canada        </td><td> 8</td></tr>\n",
              "\t<tr><td>France        </td><td> 5</td></tr>\n",
              "\t<tr><td>Brazil        </td><td> 5</td></tr>\n",
              "\t<tr><td>Germany       </td><td> 4</td></tr>\n",
              "\t<tr><td>United Kingdom</td><td> 3</td></tr>\n",
              "\t<tr><td>Portugal      </td><td> 2</td></tr>\n",
              "\t<tr><td>India         </td><td> 2</td></tr>\n",
              "\t<tr><td>Czech Republic</td><td> 2</td></tr>\n",
              "\t<tr><td>Sweden        </td><td> 1</td></tr>\n",
              "\t<tr><td>Spain         </td><td> 1</td></tr>\n",
              "\t<tr><td>Poland        </td><td> 1</td></tr>\n",
              "\t<tr><td>Norway        </td><td> 1</td></tr>\n",
              "\t<tr><td>Netherlands   </td><td> 1</td></tr>\n",
              "\t<tr><td>Italy         </td><td> 1</td></tr>\n",
              "\t<tr><td>Ireland       </td><td> 1</td></tr>\n",
              "\t<tr><td>Hungary       </td><td> 1</td></tr>\n",
              "\t<tr><td>Finland       </td><td> 1</td></tr>\n",
              "\t<tr><td>Denmark       </td><td> 1</td></tr>\n",
              "\t<tr><td>Chile         </td><td> 1</td></tr>\n",
              "\t<tr><td>Belgium       </td><td> 1</td></tr>\n",
              "\t<tr><td>Austria       </td><td> 1</td></tr>\n",
              "\t<tr><td>Australia     </td><td> 1</td></tr>\n",
              "\t<tr><td>Argentina     </td><td> 1</td></tr>\n",
              "</tbody>\n",
              "</table>\n"
            ],
            "text/markdown": "\nA data.frame: 24 × 2\n\n| Country &lt;chr&gt; | n &lt;int&gt; |\n|---|---|\n| USA            | 13 |\n| Canada         |  8 |\n| France         |  5 |\n| Brazil         |  5 |\n| Germany        |  4 |\n| United Kingdom |  3 |\n| Portugal       |  2 |\n| India          |  2 |\n| Czech Republic |  2 |\n| Sweden         |  1 |\n| Spain          |  1 |\n| Poland         |  1 |\n| Norway         |  1 |\n| Netherlands    |  1 |\n| Italy          |  1 |\n| Ireland        |  1 |\n| Hungary        |  1 |\n| Finland        |  1 |\n| Denmark        |  1 |\n| Chile          |  1 |\n| Belgium        |  1 |\n| Austria        |  1 |\n| Australia      |  1 |\n| Argentina      |  1 |\n\n",
            "text/latex": "A data.frame: 24 × 2\n\\begin{tabular}{ll}\n Country & n\\\\\n <chr> & <int>\\\\\n\\hline\n\t USA            & 13\\\\\n\t Canada         &  8\\\\\n\t France         &  5\\\\\n\t Brazil         &  5\\\\\n\t Germany        &  4\\\\\n\t United Kingdom &  3\\\\\n\t Portugal       &  2\\\\\n\t India          &  2\\\\\n\t Czech Republic &  2\\\\\n\t Sweden         &  1\\\\\n\t Spain          &  1\\\\\n\t Poland         &  1\\\\\n\t Norway         &  1\\\\\n\t Netherlands    &  1\\\\\n\t Italy          &  1\\\\\n\t Ireland        &  1\\\\\n\t Hungary        &  1\\\\\n\t Finland        &  1\\\\\n\t Denmark        &  1\\\\\n\t Chile          &  1\\\\\n\t Belgium        &  1\\\\\n\t Austria        &  1\\\\\n\t Australia      &  1\\\\\n\t Argentina      &  1\\\\\n\\end{tabular}\n",
            "text/plain": [
              "   Country        n \n",
              "1  USA            13\n",
              "2  Canada          8\n",
              "3  France          5\n",
              "4  Brazil          5\n",
              "5  Germany         4\n",
              "6  United Kingdom  3\n",
              "7  Portugal        2\n",
              "8  India           2\n",
              "9  Czech Republic  2\n",
              "10 Sweden          1\n",
              "11 Spain           1\n",
              "12 Poland          1\n",
              "13 Norway          1\n",
              "14 Netherlands     1\n",
              "15 Italy           1\n",
              "16 Ireland         1\n",
              "17 Hungary         1\n",
              "18 Finland         1\n",
              "19 Denmark         1\n",
              "20 Chile           1\n",
              "21 Belgium         1\n",
              "22 Austria         1\n",
              "23 Australia       1\n",
              "24 Argentina       1"
            ]
          },
          "metadata": {}
        }
      ]
    },
    {
      "cell_type": "markdown",
      "source": [
        "8. Quais são os 5 países com mais clientes registrados? Use apenas SQLite."
      ],
      "metadata": {
        "id": "Ktv85aBeZf-F"
      }
    },
    {
      "cell_type": "code",
      "source": [
        "(dbGetQuery(conn,\"SELECT Country,COUNT(CustomerID) AS n FROM customers GROUP BY Country ORDER BY n DESC LIMIT 5\"))"
      ],
      "metadata": {
        "colab": {
          "base_uri": "https://localhost:8080/",
          "height": 255
        },
        "id": "eu4BiEIrZiqr",
        "outputId": "7029b1ee-84b1-42c7-a09e-ecc3e129feaa"
      },
      "execution_count": null,
      "outputs": [
        {
          "output_type": "display_data",
          "data": {
            "text/html": [
              "<table class=\"dataframe\">\n",
              "<caption>A data.frame: 5 × 2</caption>\n",
              "<thead>\n",
              "\t<tr><th scope=col>Country</th><th scope=col>n</th></tr>\n",
              "\t<tr><th scope=col>&lt;chr&gt;</th><th scope=col>&lt;int&gt;</th></tr>\n",
              "</thead>\n",
              "<tbody>\n",
              "\t<tr><td>USA    </td><td>13</td></tr>\n",
              "\t<tr><td>Canada </td><td> 8</td></tr>\n",
              "\t<tr><td>France </td><td> 5</td></tr>\n",
              "\t<tr><td>Brazil </td><td> 5</td></tr>\n",
              "\t<tr><td>Germany</td><td> 4</td></tr>\n",
              "</tbody>\n",
              "</table>\n"
            ],
            "text/markdown": "\nA data.frame: 5 × 2\n\n| Country &lt;chr&gt; | n &lt;int&gt; |\n|---|---|\n| USA     | 13 |\n| Canada  |  8 |\n| France  |  5 |\n| Brazil  |  5 |\n| Germany |  4 |\n\n",
            "text/latex": "A data.frame: 5 × 2\n\\begin{tabular}{ll}\n Country & n\\\\\n <chr> & <int>\\\\\n\\hline\n\t USA     & 13\\\\\n\t Canada  &  8\\\\\n\t France  &  5\\\\\n\t Brazil  &  5\\\\\n\t Germany &  4\\\\\n\\end{tabular}\n",
            "text/plain": [
              "  Country n \n",
              "1 USA     13\n",
              "2 Canada   8\n",
              "3 France   5\n",
              "4 Brazil   5\n",
              "5 Germany  4"
            ]
          },
          "metadata": {}
        }
      ]
    },
    {
      "cell_type": "markdown",
      "source": [
        "9. Quais são os países registrados que possuem apenas 6 letras no nome?"
      ],
      "metadata": {
        "id": "AyNMhBWGaO4S"
      }
    },
    {
      "cell_type": "code",
      "source": [
        "(dbGetQuery(conn,\"SELECT DISTINCT Country FROM customers WHERE Country GLOB '??????'\"))"
      ],
      "metadata": {
        "colab": {
          "base_uri": "https://localhost:8080/",
          "height": 321
        },
        "id": "Wp0tZ5BjbQ3j",
        "outputId": "8b5cce68-433e-4278-a64e-09a8839ccc27"
      },
      "execution_count": null,
      "outputs": [
        {
          "output_type": "display_data",
          "data": {
            "text/html": [
              "<table class=\"dataframe\">\n",
              "<caption>A data.frame: 6 × 1</caption>\n",
              "<thead>\n",
              "\t<tr><th scope=col>Country</th></tr>\n",
              "\t<tr><th scope=col>&lt;chr&gt;</th></tr>\n",
              "</thead>\n",
              "<tbody>\n",
              "\t<tr><td>Brazil</td></tr>\n",
              "\t<tr><td>Canada</td></tr>\n",
              "\t<tr><td>Norway</td></tr>\n",
              "\t<tr><td>France</td></tr>\n",
              "\t<tr><td>Poland</td></tr>\n",
              "\t<tr><td>Sweden</td></tr>\n",
              "</tbody>\n",
              "</table>\n"
            ],
            "text/markdown": "\nA data.frame: 6 × 1\n\n| Country &lt;chr&gt; |\n|---|\n| Brazil |\n| Canada |\n| Norway |\n| France |\n| Poland |\n| Sweden |\n\n",
            "text/latex": "A data.frame: 6 × 1\n\\begin{tabular}{l}\n Country\\\\\n <chr>\\\\\n\\hline\n\t Brazil\\\\\n\t Canada\\\\\n\t Norway\\\\\n\t France\\\\\n\t Poland\\\\\n\t Sweden\\\\\n\\end{tabular}\n",
            "text/plain": [
              "  Country\n",
              "1 Brazil \n",
              "2 Canada \n",
              "3 Norway \n",
              "4 France \n",
              "5 Poland \n",
              "6 Sweden "
            ]
          },
          "metadata": {}
        }
      ]
    },
    {
      "cell_type": "code",
      "source": [
        "(dbGetQuery(conn,\"SELECT DISTINCT country FROM customers WHERE LENGTH(Country) = 6\"))"
      ],
      "metadata": {
        "colab": {
          "base_uri": "https://localhost:8080/",
          "height": 321
        },
        "id": "L_AD7va-aRuy",
        "outputId": "6079fcc6-7b81-4c64-ac24-070dd5cd006b"
      },
      "execution_count": null,
      "outputs": [
        {
          "output_type": "display_data",
          "data": {
            "text/html": [
              "<table class=\"dataframe\">\n",
              "<caption>A data.frame: 6 × 1</caption>\n",
              "<thead>\n",
              "\t<tr><th scope=col>Country</th></tr>\n",
              "\t<tr><th scope=col>&lt;chr&gt;</th></tr>\n",
              "</thead>\n",
              "<tbody>\n",
              "\t<tr><td>Brazil</td></tr>\n",
              "\t<tr><td>Canada</td></tr>\n",
              "\t<tr><td>Norway</td></tr>\n",
              "\t<tr><td>France</td></tr>\n",
              "\t<tr><td>Poland</td></tr>\n",
              "\t<tr><td>Sweden</td></tr>\n",
              "</tbody>\n",
              "</table>\n"
            ],
            "text/markdown": "\nA data.frame: 6 × 1\n\n| Country &lt;chr&gt; |\n|---|\n| Brazil |\n| Canada |\n| Norway |\n| France |\n| Poland |\n| Sweden |\n\n",
            "text/latex": "A data.frame: 6 × 1\n\\begin{tabular}{l}\n Country\\\\\n <chr>\\\\\n\\hline\n\t Brazil\\\\\n\t Canada\\\\\n\t Norway\\\\\n\t France\\\\\n\t Poland\\\\\n\t Sweden\\\\\n\\end{tabular}\n",
            "text/plain": [
              "  Country\n",
              "1 Brazil \n",
              "2 Canada \n",
              "3 Norway \n",
              "4 France \n",
              "5 Poland \n",
              "6 Sweden "
            ]
          },
          "metadata": {}
        }
      ]
    },
    {
      "cell_type": "markdown",
      "source": [
        "10. Quais foram as músicas compradas por clientes brasileiros?"
      ],
      "metadata": {
        "id": "S9Wt3iT2cS7s"
      }
    },
    {
      "cell_type": "code",
      "source": [
        "(dbGetQuery(conn,\"SELECT DISTINCT Name FROM tracks INNER JOIN invoice_items ON tracks.trackid = invoice_items.trackid INNER JOIN invoices ON invoice_items.invoiceid = invoices.invoiceid INNER JOIN customers ON invoices.customerid = customers.customerid WHERE Country = 'Brazil'\"))"
      ],
      "metadata": {
        "colab": {
          "base_uri": "https://localhost:8080/",
          "height": 1000
        },
        "id": "SCs0T6G4cVXz",
        "outputId": "f0f3a1c5-eb4c-4816-e3b0-3918b5a473b6"
      },
      "execution_count": null,
      "outputs": [
        {
          "output_type": "display_data",
          "data": {
            "text/html": [
              "<table class=\"dataframe\">\n",
              "<caption>A data.frame: 189 × 1</caption>\n",
              "<thead>\n",
              "\t<tr><th scope=col>Name</th></tr>\n",
              "\t<tr><th scope=col>&lt;chr&gt;</th></tr>\n",
              "</thead>\n",
              "<tbody>\n",
              "\t<tr><td>Experiment In Terra                                 </td></tr>\n",
              "\t<tr><td>Take the Celestra                                   </td></tr>\n",
              "\t<tr><td>Shout It Out Loud                                   </td></tr>\n",
              "\t<tr><td>Calling Dr. Love                                    </td></tr>\n",
              "\t<tr><td>Strutter                                            </td></tr>\n",
              "\t<tr><td>Cold Gin                                            </td></tr>\n",
              "\t<tr><td>Think About You                                     </td></tr>\n",
              "\t<tr><td>Rocket Queen                                        </td></tr>\n",
              "\t<tr><td>Don't Cry (Original)                                </td></tr>\n",
              "\t<tr><td>Back off Bitch                                      </td></tr>\n",
              "\t<tr><td>Garden of Eden                                      </td></tr>\n",
              "\t<tr><td>Coma                                                </td></tr>\n",
              "\t<tr><td>All Along The Watchtower                            </td></tr>\n",
              "\t<tr><td>Karelia Suite, Op.11: 2. Ballade (Tempo Di Menuetto)</td></tr>\n",
              "\t<tr><td>Fantasia On Greensleeves                            </td></tr>\n",
              "\t<tr><td>Interlude Zumbi                                     </td></tr>\n",
              "\t<tr><td><span style=white-space:pre-wrap>Rios Pontes &amp; Overdrives                            </span></td></tr>\n",
              "\t<tr><td>Lixo Do Mangue                                      </td></tr>\n",
              "\t<tr><td>Podes Crer                                          </td></tr>\n",
              "\t<tr><td>A Cor Do Sol                                        </td></tr>\n",
              "\t<tr><td>Doutor                                              </td></tr>\n",
              "\t<tr><td>Linha Do Equador                                    </td></tr>\n",
              "\t<tr><td>TriboTchan                                          </td></tr>\n",
              "\t<tr><td>Reggae Tchan                                        </td></tr>\n",
              "\t<tr><td>Communication Breakdown(2)                          </td></tr>\n",
              "\t<tr><td>Carolina Hard-Core Ecstasy                          </td></tr>\n",
              "\t<tr><td>X-9 2001                                            </td></tr>\n",
              "\t<tr><td>Ipiranga 2001                                       </td></tr>\n",
              "\t<tr><td>Água de Beber                                       </td></tr>\n",
              "\t<tr><td>Vamo Batê Lata                                      </td></tr>\n",
              "\t<tr><td>⋮</td></tr>\n",
              "\t<tr><td>Sometimes Salvation                                                                     </td></tr>\n",
              "\t<tr><td>Girl From A Pawnshop                                                                    </td></tr>\n",
              "\t<tr><td>Title Song                                                                              </td></tr>\n",
              "\t<tr><td>Soul Singing                                                                            </td></tr>\n",
              "\t<tr><td>Lay Down Sally                                                                          </td></tr>\n",
              "\t<tr><td>Duelists                                                                                </td></tr>\n",
              "\t<tr><td>Powerslave                                                                              </td></tr>\n",
              "\t<tr><td>Aloha                                                                                   </td></tr>\n",
              "\t<tr><td>Será                                                                                    </td></tr>\n",
              "\t<tr><td>Pais E Filhos                                                                           </td></tr>\n",
              "\t<tr><td>Rock And Roll Is Dead                                                                   </td></tr>\n",
              "\t<tr><td>I Belong To You                                                                         </td></tr>\n",
              "\t<tr><td>Casa                                                                                    </td></tr>\n",
              "\t<tr><td>A Cura                                                                                  </td></tr>\n",
              "\t<tr><td>Sereia                                                                                  </td></tr>\n",
              "\t<tr><td>Heart Of Lothian: Wide Boy / Curtain Call                                               </td></tr>\n",
              "\t<tr><td>Cérebro Eletrônico                                                                      </td></tr>\n",
              "\t<tr><td>A Menina Dança                                                                          </td></tr>\n",
              "\t<tr><td>You've Been A Long Time Coming                                                          </td></tr>\n",
              "\t<tr><td>Abraham, Martin And John                                                                </td></tr>\n",
              "\t<tr><td>Everything I Need                                                                       </td></tr>\n",
              "\t<tr><td>Help Yourself                                                                           </td></tr>\n",
              "\t<tr><td><span style=white-space:pre-wrap>Suite No. 3 in D, BWV 1068: III. Gavotte I &amp; II                                         </span></td></tr>\n",
              "\t<tr><td>Music for the Funeral of Queen Mary: VI. \"Thou Knowest, Lord, the Secrets of Our Hearts\"</td></tr>\n",
              "\t<tr><td>Symphony No. 2, Op. 16 -  \"The Four Temperaments\": II. Allegro Comodo e Flemmatico      </td></tr>\n",
              "\t<tr><td>String Quartet No. 12 in C Minor, D. 703 \"Quartettsatz\": II. Andante - Allegro assai    </td></tr>\n",
              "\t<tr><td>Fast As a Shark                                                                         </td></tr>\n",
              "\t<tr><td>Snowballed                                                                              </td></tr>\n",
              "\t<tr><td>Go Down                                                                                 </td></tr>\n",
              "\t<tr><td>Hell Ain't A Bad Place To Be                                                            </td></tr>\n",
              "</tbody>\n",
              "</table>\n"
            ],
            "text/markdown": "\nA data.frame: 189 × 1\n\n| Name &lt;chr&gt; |\n|---|\n| Experiment In Terra                                  |\n| Take the Celestra                                    |\n| Shout It Out Loud                                    |\n| Calling Dr. Love                                     |\n| Strutter                                             |\n| Cold Gin                                             |\n| Think About You                                      |\n| Rocket Queen                                         |\n| Don't Cry (Original)                                 |\n| Back off Bitch                                       |\n| Garden of Eden                                       |\n| Coma                                                 |\n| All Along The Watchtower                             |\n| Karelia Suite, Op.11: 2. Ballade (Tempo Di Menuetto) |\n| Fantasia On Greensleeves                             |\n| Interlude Zumbi                                      |\n| Rios Pontes &amp; Overdrives                             |\n| Lixo Do Mangue                                       |\n| Podes Crer                                           |\n| A Cor Do Sol                                         |\n| Doutor                                               |\n| Linha Do Equador                                     |\n| TriboTchan                                           |\n| Reggae Tchan                                         |\n| Communication Breakdown(2)                           |\n| Carolina Hard-Core Ecstasy                           |\n| X-9 2001                                             |\n| Ipiranga 2001                                        |\n| Água de Beber                                        |\n| Vamo Batê Lata                                       |\n| ⋮ |\n| Sometimes Salvation                                                                      |\n| Girl From A Pawnshop                                                                     |\n| Title Song                                                                               |\n| Soul Singing                                                                             |\n| Lay Down Sally                                                                           |\n| Duelists                                                                                 |\n| Powerslave                                                                               |\n| Aloha                                                                                    |\n| Será                                                                                     |\n| Pais E Filhos                                                                            |\n| Rock And Roll Is Dead                                                                    |\n| I Belong To You                                                                          |\n| Casa                                                                                     |\n| A Cura                                                                                   |\n| Sereia                                                                                   |\n| Heart Of Lothian: Wide Boy / Curtain Call                                                |\n| Cérebro Eletrônico                                                                       |\n| A Menina Dança                                                                           |\n| You've Been A Long Time Coming                                                           |\n| Abraham, Martin And John                                                                 |\n| Everything I Need                                                                        |\n| Help Yourself                                                                            |\n| Suite No. 3 in D, BWV 1068: III. Gavotte I &amp; II                                          |\n| Music for the Funeral of Queen Mary: VI. \"Thou Knowest, Lord, the Secrets of Our Hearts\" |\n| Symphony No. 2, Op. 16 -  \"The Four Temperaments\": II. Allegro Comodo e Flemmatico       |\n| String Quartet No. 12 in C Minor, D. 703 \"Quartettsatz\": II. Andante - Allegro assai     |\n| Fast As a Shark                                                                          |\n| Snowballed                                                                               |\n| Go Down                                                                                  |\n| Hell Ain't A Bad Place To Be                                                             |\n\n",
            "text/latex": "A data.frame: 189 × 1\n\\begin{tabular}{l}\n Name\\\\\n <chr>\\\\\n\\hline\n\t Experiment In Terra                                 \\\\\n\t Take the Celestra                                   \\\\\n\t Shout It Out Loud                                   \\\\\n\t Calling Dr. Love                                    \\\\\n\t Strutter                                            \\\\\n\t Cold Gin                                            \\\\\n\t Think About You                                     \\\\\n\t Rocket Queen                                        \\\\\n\t Don't Cry (Original)                                \\\\\n\t Back off Bitch                                      \\\\\n\t Garden of Eden                                      \\\\\n\t Coma                                                \\\\\n\t All Along The Watchtower                            \\\\\n\t Karelia Suite, Op.11: 2. Ballade (Tempo Di Menuetto)\\\\\n\t Fantasia On Greensleeves                            \\\\\n\t Interlude Zumbi                                     \\\\\n\t Rios Pontes \\& Overdrives                            \\\\\n\t Lixo Do Mangue                                      \\\\\n\t Podes Crer                                          \\\\\n\t A Cor Do Sol                                        \\\\\n\t Doutor                                              \\\\\n\t Linha Do Equador                                    \\\\\n\t TriboTchan                                          \\\\\n\t Reggae Tchan                                        \\\\\n\t Communication Breakdown(2)                          \\\\\n\t Carolina Hard-Core Ecstasy                          \\\\\n\t X-9 2001                                            \\\\\n\t Ipiranga 2001                                       \\\\\n\t Água de Beber                                       \\\\\n\t Vamo Batê Lata                                      \\\\\n\t ⋮\\\\\n\t Sometimes Salvation                                                                     \\\\\n\t Girl From A Pawnshop                                                                    \\\\\n\t Title Song                                                                              \\\\\n\t Soul Singing                                                                            \\\\\n\t Lay Down Sally                                                                          \\\\\n\t Duelists                                                                                \\\\\n\t Powerslave                                                                              \\\\\n\t Aloha                                                                                   \\\\\n\t Será                                                                                    \\\\\n\t Pais E Filhos                                                                           \\\\\n\t Rock And Roll Is Dead                                                                   \\\\\n\t I Belong To You                                                                         \\\\\n\t Casa                                                                                    \\\\\n\t A Cura                                                                                  \\\\\n\t Sereia                                                                                  \\\\\n\t Heart Of Lothian: Wide Boy / Curtain Call                                               \\\\\n\t Cérebro Eletrônico                                                                      \\\\\n\t A Menina Dança                                                                          \\\\\n\t You've Been A Long Time Coming                                                          \\\\\n\t Abraham, Martin And John                                                                \\\\\n\t Everything I Need                                                                       \\\\\n\t Help Yourself                                                                           \\\\\n\t Suite No. 3 in D, BWV 1068: III. Gavotte I \\& II                                         \\\\\n\t Music for the Funeral of Queen Mary: VI. \"Thou Knowest, Lord, the Secrets of Our Hearts\"\\\\\n\t Symphony No. 2, Op. 16 -  \"The Four Temperaments\": II. Allegro Comodo e Flemmatico      \\\\\n\t String Quartet No. 12 in C Minor, D. 703 \"Quartettsatz\": II. Andante - Allegro assai    \\\\\n\t Fast As a Shark                                                                         \\\\\n\t Snowballed                                                                              \\\\\n\t Go Down                                                                                 \\\\\n\t Hell Ain't A Bad Place To Be                                                            \\\\\n\\end{tabular}\n",
            "text/plain": [
              "    Name                                                                                    \n",
              "1   Experiment In Terra                                                                     \n",
              "2   Take the Celestra                                                                       \n",
              "3   Shout It Out Loud                                                                       \n",
              "4   Calling Dr. Love                                                                        \n",
              "5   Strutter                                                                                \n",
              "6   Cold Gin                                                                                \n",
              "7   Think About You                                                                         \n",
              "8   Rocket Queen                                                                            \n",
              "9   Don't Cry (Original)                                                                    \n",
              "10  Back off Bitch                                                                          \n",
              "11  Garden of Eden                                                                          \n",
              "12  Coma                                                                                    \n",
              "13  All Along The Watchtower                                                                \n",
              "14  Karelia Suite, Op.11: 2. Ballade (Tempo Di Menuetto)                                    \n",
              "15  Fantasia On Greensleeves                                                                \n",
              "16  Interlude Zumbi                                                                         \n",
              "17  Rios Pontes & Overdrives                                                                \n",
              "18  Lixo Do Mangue                                                                          \n",
              "19  Podes Crer                                                                              \n",
              "20  A Cor Do Sol                                                                            \n",
              "21  Doutor                                                                                  \n",
              "22  Linha Do Equador                                                                        \n",
              "23  TriboTchan                                                                              \n",
              "24  Reggae Tchan                                                                            \n",
              "25  Communication Breakdown(2)                                                              \n",
              "26  Carolina Hard-Core Ecstasy                                                              \n",
              "27  X-9 2001                                                                                \n",
              "28  Ipiranga 2001                                                                           \n",
              "29  Água de Beber                                                                           \n",
              "30  Vamo Batê Lata                                                                          \n",
              "⋮   ⋮                                                                                       \n",
              "160 Sometimes Salvation                                                                     \n",
              "161 Girl From A Pawnshop                                                                    \n",
              "162 Title Song                                                                              \n",
              "163 Soul Singing                                                                            \n",
              "164 Lay Down Sally                                                                          \n",
              "165 Duelists                                                                                \n",
              "166 Powerslave                                                                              \n",
              "167 Aloha                                                                                   \n",
              "168 Será                                                                                    \n",
              "169 Pais E Filhos                                                                           \n",
              "170 Rock And Roll Is Dead                                                                   \n",
              "171 I Belong To You                                                                         \n",
              "172 Casa                                                                                    \n",
              "173 A Cura                                                                                  \n",
              "174 Sereia                                                                                  \n",
              "175 Heart Of Lothian: Wide Boy / Curtain Call                                               \n",
              "176 Cérebro Eletrônico                                                                      \n",
              "177 A Menina Dança                                                                          \n",
              "178 You've Been A Long Time Coming                                                          \n",
              "179 Abraham, Martin And John                                                                \n",
              "180 Everything I Need                                                                       \n",
              "181 Help Yourself                                                                           \n",
              "182 Suite No. 3 in D, BWV 1068: III. Gavotte I & II                                         \n",
              "183 Music for the Funeral of Queen Mary: VI. \"Thou Knowest, Lord, the Secrets of Our Hearts\"\n",
              "184 Symphony No. 2, Op. 16 -  \"The Four Temperaments\": II. Allegro Comodo e Flemmatico      \n",
              "185 String Quartet No. 12 in C Minor, D. 703 \"Quartettsatz\": II. Andante - Allegro assai    \n",
              "186 Fast As a Shark                                                                         \n",
              "187 Snowballed                                                                              \n",
              "188 Go Down                                                                                 \n",
              "189 Hell Ain't A Bad Place To Be                                                            "
            ]
          },
          "metadata": {}
        }
      ]
    },
    {
      "cell_type": "markdown",
      "source": [
        "11. Desconecte do banco de dados"
      ],
      "metadata": {
        "id": "hFyKj-I5fYru"
      }
    },
    {
      "cell_type": "code",
      "source": [
        "dbDisconnect(conn)"
      ],
      "metadata": {
        "id": "-R2iYg2vfbTE"
      },
      "execution_count": null,
      "outputs": []
    }
  ]
}