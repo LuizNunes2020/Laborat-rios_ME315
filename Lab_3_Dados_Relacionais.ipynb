{
  "nbformat": 4,
  "nbformat_minor": 0,
  "metadata": {
    "colab": {
      "provenance": []
    },
    "kernelspec": {
      "name": "ir",
      "display_name": "R"
    },
    "language_info": {
      "name": "R"
    }
  },
  "cells": [
    {
      "cell_type": "markdown",
      "source": [
        "Considere novamente o problema de atrasos de vôos, disponível em <https://www.kaggle.com/usdot/flight-delays>. Nesta atividade, além dos dados de `flights.csv`, nós iremos utilizar informações disponíveis nos arquivos `airlines.csv` e `airports.csv`.\n",
        "\n",
        "1.  Importe, utilizando o pacote `readr`, cada um dos três arquivos disponíveis. Os objetos resultantes devem ser chamados `flights`, `airlines` e `airports`.\n",
        "\n",
        "    -   Para o arquivo de aeroportos, importe apenas as colunas `IATA_CODE`, `CITY`, `STATE`, `LATITUDE`, `LONGITUDE`;\n",
        "    -   Para o arquivo de vôos:\n",
        "        a.  Importe apenas as colunas `DESTINATION_AIRPORT` e `ARRIVAL_DELAY`;\n",
        "        b.  Leia apenas 1 milhão de linhas por vez;\n",
        "        c.  Remova vôos em que o aeroporto de destino comece com a letra 1;\n",
        "        d.  Remova registros em que existam pelo menos uma coluna faltante;\n",
        "        e.  Determine, para cada parte do arquivo, as estatísticas suficientes para a determinação do atraso médio por aeroporto de destino;\n",
        "        f.  Ao finalizar a leitura do arquivo, combine as estatísticas suficientes de modo a produzir a média de atraso por aeroporto.\n"
      ],
      "metadata": {
        "id": "9Er0pG21KEOW"
      }
    },
    {
      "cell_type": "code",
      "source": [
        "getStats = function(input, pos){\n",
        "  input %>%\n",
        "    filter(!startsWith(DESTINATION_AIRPORT, \"1\")) %>%\n",
        "    drop_na() %>%\n",
        "    group_by(DESTINATION_AIRPORT) %>%\n",
        "    summarise(Sx=sum(ARRIVAL_DELAY), n=n())\n",
        "}\n",
        "\n",
        "computeStats = function(input){\n",
        "  input %>%\n",
        "    group_by(DESTINATION_AIRPORT) %>%\n",
        "    summarise(MEAN_DELAY = sum(Sx)/sum(n))\n",
        "}\n",
        "\n",
        "mycolsf = cols_only(DESTINATION_AIRPORT='c', ARRIVAL_DELAY='i')\n",
        "flights <- read_csv_chunked(\"../dados/flights.csv.zip\",\n",
        "                            callback=DataFrameCallback$new(getStats),\n",
        "                            chunk_size = 1e6,\n",
        "                            col_types = mycolsf)\n",
        "\n",
        "# flights <- read_csv_chunked(\"flights.csv\",\n",
        "#                             callback=DataFrameCallback$new(getStats),\n",
        "#                             chunk_size = 1e6,\n",
        "#                             col_types = mycolsf)\n",
        "\n",
        "flights %<>% computeStats()\n",
        "\n",
        "airlines <- read_csv(\"../dados/airlines.csv\")\n",
        "## airlines <- read_csv(\"airlines.csv\")\n",
        "mycolsp = cols_only(IATA_CODE='c', CITY='c', STATE='c', LATITUDE='d', LONGITUDE='d')\n",
        "airports <- read_csv(\"../dados/airports.csv\", col_types = mycolsp)\n",
        "## airports <- read_csv(\"airports.csv\", col_types = mycolsp)"
      ],
      "metadata": {
        "colab": {
          "base_uri": "https://localhost:8080/",
          "height": 72
        },
        "id": "tcuobLYeKEdM",
        "outputId": "0feca6c1-420a-420d-e8e0-c3e08337fad0"
      },
      "execution_count": null,
      "outputs": [
        {
          "output_type": "error",
          "ename": "ERROR",
          "evalue": "Error in fileUpload(): could not find function \"fileUpload\"\n",
          "traceback": [
            "Error in fileUpload(): could not find function \"fileUpload\"\nTraceback:\n"
          ]
        }
      ]
    },
    {
      "cell_type": "markdown",
      "source": [
        "2.  Selecione a operação apropriada *join* para incluir, na tabela `flights`, as colunas `CITY` e `STATE` do objeto `airports`. Para executar esta tarefa:\n",
        "    a.  Identifique a coluna que é a chave na tabela `flights`;\n",
        "    b.  Identifique a coluna que é a chave na tabela `airports`;\n",
        "    c.  Quais são os aeroportos que estão listados em `flights`, mas estão ausentes em `airports`?\n",
        "    d.  Apresente o comando que combine ambas as tabelas, indicando explicitamente as chaves;\n",
        "    e.  Armazene a tabela resultante no objeto `flights`."
      ],
      "metadata": {
        "id": "xRC25j2RzSJw"
      }
    },
    {
      "cell_type": "code",
      "source": [
        "## chave em flights: DESTINATION_AIRPORT\n",
        "## chave em airports: IATA_CODE\n",
        "flights %>% anti_join(airports, by=c('DESTINATION_AIRPORT'='IATA_CODE'))\n",
        "flights %<>%\n",
        "  left_join(airports, by=c('DESTINATION_AIRPORT'='IATA_CODE'))"
      ],
      "metadata": {
        "id": "86GTiaVxzVM5"
      },
      "execution_count": null,
      "outputs": []
    },
    {
      "cell_type": "markdown",
      "source": [
        "3.  Quantos aeroportos cada estado possui? Apresente uma tabela ordenada de forma decrescente (no número de aeroportos).\n"
      ],
      "metadata": {
        "id": "8CV2WfcxzYHk"
      }
    },
    {
      "cell_type": "code",
      "source": [
        "flights %>% group_by(STATE) %>% tally() %>% arrange(-n)"
      ],
      "metadata": {
        "id": "IV-Uo7ztzZ3O"
      },
      "execution_count": null,
      "outputs": []
    },
    {
      "cell_type": "markdown",
      "source": [
        "4.  Apresente um mapa representando todos os atrasos observados por aeroporto.\n",
        "\n",
        "    a.  Carregue o pacote `leaflet`;\n",
        "    b.  Combine os comandos `leaflet`, `addTiles` e `addMarkers` para a criação de um mapa básico;\n",
        "    c.  Armazene o grafico em b) numa variável chamada `this`;\n",
        "    d.  Adicione as duas linhas abaixo após a criação da variável `this` (apenas se você estiver usando Jupyter):\n"
      ],
      "metadata": {
        "id": "HanBYSc3zdaY"
      }
    },
    {
      "cell_type": "code",
      "source": [
        "library(leaflet)\n",
        "this = leaflet(flights) %>% addTiles() %>%\n",
        "    addCircleMarkers(~LONGITUDE, ~LATITUDE,\n",
        "                     radius=~MEAN_DELAY,\n",
        "                     popup=~paste(\"Atraso médio:\", as.character(round(MEAN_DELAY, 0)), \"min\"),\n",
        "                     label=~as.character(DESTINATION_AIRPORT),\n",
        "                     fillOpacity=0.5,\n",
        "                     color=~ifelse(MEAN_DELAY < 10, \"navy\", \"red\"),\n",
        "                     clusterOptions=markerClusterOptions())"
      ],
      "metadata": {
        "id": "S1QN8Z3czdw7"
      },
      "execution_count": null,
      "outputs": []
    }
  ]
}