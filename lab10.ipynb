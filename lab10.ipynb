{
  "cells": [
    {
      "cell_type": "markdown",
      "metadata": {
        "id": "view-in-github",
        "colab_type": "text"
      },
      "source": [
        "<a href=\"https://colab.research.google.com/github/LuizNunes2020/Laboratorios_ME315/blob/main/lab10.ipynb\" target=\"_parent\"><img src=\"https://colab.research.google.com/assets/colab-badge.svg\" alt=\"Open In Colab\"/></a>"
      ]
    },
    {
      "cell_type": "code",
      "execution_count": null,
      "metadata": {
        "id": "jdAsYmxYo_YR"
      },
      "outputs": [],
      "source": [
        "import pandas as pd\n",
        "import sqlite3\n",
        "import gdown\n",
        "import polars as pl"
      ]
    },
    {
      "cell_type": "code",
      "execution_count": null,
      "metadata": {
        "colab": {
          "base_uri": "https://localhost:8080/"
        },
        "id": "NVEwVAFV1kPp",
        "outputId": "d59fb1b9-f0de-4b87-b631-ef72873f7592"
      },
      "outputs": [
        {
          "output_type": "stream",
          "name": "stdout",
          "text": [
            "Baixando arquivos...\n"
          ]
        },
        {
          "output_type": "stream",
          "name": "stderr",
          "text": [
            "Downloading...\n",
            "From (original): https://drive.google.com/uc?id=1iYqAGTtIhRLK4ycFK41hYaWK3iKfOdT2\n",
            "From (redirected): https://drive.google.com/uc?id=1iYqAGTtIhRLK4ycFK41hYaWK3iKfOdT2&confirm=t&uuid=86067af9-4cf7-43b5-9e48-aca32f650ac6\n",
            "To: /content/title.basics.tsv.gz\n",
            "100%|██████████| 192M/192M [00:00<00:00, 224MB/s]\n",
            "Downloading...\n",
            "From: https://drive.google.com/uc?id=1kZuj1lnXkPrNURzwYuc4FXTM7Pvknr3o\n",
            "To: /content/title.ratings.tsv.gz\n",
            "100%|██████████| 7.47M/7.47M [00:00<00:00, 217MB/s]\n",
            "Downloading...\n",
            "From (original): https://drive.google.com/uc?id=1oLR2_mFyRHEiKlqFKt4QDVYlGH8LC4mn\n",
            "From (redirected): https://drive.google.com/uc?id=1oLR2_mFyRHEiKlqFKt4QDVYlGH8LC4mn&confirm=t&uuid=818ce9b4-aa10-40b0-82b6-4fdac41cacc5\n",
            "To: /content/title.principals.tsv.gz\n",
            "100%|██████████| 671M/671M [00:04<00:00, 157MB/s]\n"
          ]
        }
      ],
      "source": [
        "import pandas as pd\n",
        "import sqlite3\n",
        "import gdown\n",
        "\n",
        "# IDs dos arquivos no Google Drive\n",
        "file_id_basics = \"1iYqAGTtIhRLK4ycFK41hYaWK3iKfOdT2\"\n",
        "file_id_ratings = \"1kZuj1lnXkPrNURzwYuc4FXTM7Pvknr3o\"\n",
        "file_id_principals = \"1oLR2_mFyRHEiKlqFKt4QDVYlGH8LC4mn\"\n",
        "\n",
        "# URLs de download direto\n",
        "url_basics = f\"https://drive.google.com/uc?id={file_id_basics}\"\n",
        "url_ratings = f\"https://drive.google.com/uc?id={file_id_ratings}\"\n",
        "url_principals = f\"https://drive.google.com/uc?id={file_id_principals}\"\n",
        "\n",
        "# Nomes dos arquivos locais\n",
        "output_basics = \"title.basics.tsv.gz\"\n",
        "output_ratings = \"title.ratings.tsv.gz\"\n",
        "output_principals = \"title.principals.tsv.gz\"\n",
        "\n",
        "# Baixar os arquivos\n",
        "print(\"Baixando arquivos...\")\n",
        "gdown.download(url_basics, output_basics, quiet=False)\n",
        "gdown.download(url_ratings, output_ratings, quiet=False)\n",
        "gdown.download(url_principals, output_principals, quiet=False)\n",
        "\n",
        "# Conectar ao banco de dados SQLite\n",
        "conn = sqlite3.connect('movies.sqlite3')\n",
        "cursor = conn.cursor()\n",
        "\n",
        "# Especificar as colunas necessárias para cada arquivo\n",
        "basics_columns = ['tconst', 'primaryTitle', 'startYear','genres']\n",
        "ratings_columns = ['tconst', 'averageRating', 'numVotes']\n",
        "principals_columns = ['tconst', 'nconst', 'category']\n",
        "\n",
        "# Ler apenas as colunas necessárias para cada arquivo\n",
        "basics_df = pd.read_csv(output_basics, sep='\\t', compression='gzip', usecols=basics_columns)\n",
        "ratings_df = pd.read_csv(output_ratings, sep='\\t', compression='gzip', usecols=ratings_columns)\n",
        "principals_df = pd.read_csv(output_principals, sep='\\t', compression='gzip', usecols=principals_columns)\n",
        "\n",
        "# Inserir os dados no banco de dados\n",
        "basics_df.to_sql('basics', conn, if_exists='replace', index=False)\n",
        "ratings_df.to_sql('ratings', conn, if_exists='replace', index=False)\n",
        "principals_df.to_sql('principals', conn, if_exists='replace', index=False)"
      ]
    },
    {
      "cell_type": "code",
      "source": [
        "import pandas as pd\n",
        "import sqlite3\n",
        "import gdown\n",
        "\n",
        "# IDs dos arquivos no Google Drive\n",
        "file_id_basics = \"1iYqAGTtIhRLK4ycFK41hYaWK3iKfOdT2\"\n",
        "file_id_ratings = \"1kZuj1lnXkPrNURzwYuc4FXTM7Pvknr3o\"\n",
        "file_id_principals = \"1oLR2_mFyRHEiKlqFKt4QDVYlGH8LC4mn\"\n",
        "\n",
        "# URLs de download direto\n",
        "url_basics = f\"https://drive.google.com/uc?id={file_id_basics}\"\n",
        "url_ratings = f\"https://drive.google.com/uc?id={file_id_ratings}\"\n",
        "url_principals = f\"https://drive.google.com/uc?id={file_id_principals}\"\n",
        "\n",
        "# Nomes dos arquivos locais\n",
        "output_basics = \"title.basics.tsv.gz\"\n",
        "output_ratings = \"title.ratings.tsv.gz\"\n",
        "output_principals = \"title.principals.tsv.gz\"\n",
        "\n",
        "# Baixar os arquivos\n",
        "print(\"Baixando arquivos...\")\n",
        "gdown.download(url_basics, output_basics, quiet=False)\n",
        "gdown.download(url_ratings, output_ratings, quiet=False)\n",
        "gdown.download(url_principals, output_principals, quiet=False)\n",
        "\n",
        "# Conectar ao banco de dados SQLite\n",
        "conn = sqlite3.connect('movies.sqlite3')\n",
        "\n",
        "# Definir as colunas necessárias para cada arquivo\n",
        "basics_columns = ['tconst', 'primaryTitle', 'startYear', 'genres']\n",
        "ratings_columns = ['tconst', 'averageRating', 'numVotes']\n",
        "principals_columns = ['tconst', 'nconst', 'category']\n",
        "\n",
        "# Ler e inserir dados em chunks para reduzir o uso de memória\n",
        "chunk_size = 10000  # Tamanho do chunk\n",
        "\n",
        "def inserir_dados_em_chunks(file_path, table_name, conn, columns, sep='\\t', compression='gzip', chunk_size=10000):\n",
        "    print(f\"Inserindo dados na tabela '{table_name}' em chunks...\")\n",
        "    for chunk in pd.read_csv(file_path, sep=sep, compression=compression, usecols=columns, chunksize=chunk_size):\n",
        "        chunk.to_sql(table_name, conn, if_exists='append', index=False)\n",
        "    print(f\"Dados inseridos na tabela '{table_name}'.\")\n",
        "\n",
        "# Inserir dados em chunks para cada tabela\n",
        "inserir_dados_em_chunks(output_basics, 'basics', conn, basics_columns, chunk_size=chunk_size)\n",
        "inserir_dados_em_chunks(output_ratings, 'ratings', conn, ratings_columns, chunk_size=chunk_size)\n",
        "inserir_dados_em_chunks(output_principals, 'principals', conn, principals_columns, chunk_size=chunk_size)\n",
        "\n",
        "print('Banco de dados criado com sucesso!')\n"
      ],
      "metadata": {
        "colab": {
          "base_uri": "https://localhost:8080/"
        },
        "id": "PzqXIe6v67rb",
        "outputId": "99558702-71a7-4f28-81ca-455ca93f14a6"
      },
      "execution_count": null,
      "outputs": [
        {
          "output_type": "stream",
          "name": "stdout",
          "text": [
            "Baixando arquivos...\n"
          ]
        },
        {
          "output_type": "stream",
          "name": "stderr",
          "text": [
            "Downloading...\n",
            "From (original): https://drive.google.com/uc?id=1iYqAGTtIhRLK4ycFK41hYaWK3iKfOdT2\n",
            "From (redirected): https://drive.google.com/uc?id=1iYqAGTtIhRLK4ycFK41hYaWK3iKfOdT2&confirm=t&uuid=5a252f08-9c44-4d57-b268-165f47131f3b\n",
            "To: /content/title.basics.tsv.gz\n",
            "100%|██████████| 192M/192M [00:01<00:00, 191MB/s]\n",
            "Downloading...\n",
            "From: https://drive.google.com/uc?id=1kZuj1lnXkPrNURzwYuc4FXTM7Pvknr3o\n",
            "To: /content/title.ratings.tsv.gz\n",
            "100%|██████████| 7.47M/7.47M [00:00<00:00, 50.9MB/s]\n",
            "Downloading...\n",
            "From (original): https://drive.google.com/uc?id=1oLR2_mFyRHEiKlqFKt4QDVYlGH8LC4mn\n",
            "From (redirected): https://drive.google.com/uc?id=1oLR2_mFyRHEiKlqFKt4QDVYlGH8LC4mn&confirm=t&uuid=218edc47-ccbe-4253-a433-57734903f0ae\n",
            "To: /content/title.principals.tsv.gz\n",
            "100%|██████████| 671M/671M [00:03<00:00, 174MB/s]\n"
          ]
        },
        {
          "output_type": "stream",
          "name": "stdout",
          "text": [
            "Inserindo dados na tabela 'basics' em chunks...\n",
            "Dados inseridos na tabela 'basics'.\n",
            "Inserindo dados na tabela 'ratings' em chunks...\n",
            "Dados inseridos na tabela 'ratings'.\n",
            "Inserindo dados na tabela 'principals' em chunks...\n",
            "Dados inseridos na tabela 'principals'.\n",
            "Banco de dados criado com sucesso!\n"
          ]
        }
      ]
    },
    {
      "cell_type": "code",
      "execution_count": null,
      "metadata": {
        "id": "Ucm18I6Ehhl5",
        "colab": {
          "base_uri": "https://localhost:8080/",
          "height": 412
        },
        "outputId": "9b42b7f0-b79b-4058-9d24-f9fc27f0737c"
      },
      "outputs": [
        {
          "output_type": "execute_result",
          "data": {
            "text/plain": [
              "shape: (10, 3)\n",
              "┌─────────────────────────────────┬───────────────┬──────────┐\n",
              "│ primaryTitle                    ┆ averageRating ┆ numVotes │\n",
              "│ ---                             ┆ ---           ┆ ---      │\n",
              "│ str                             ┆ f64           ┆ i64      │\n",
              "╞═════════════════════════════════╪═══════════════╪══════════╡\n",
              "│ Ozymandias                      ┆ 10.0          ┆ 228900   │\n",
              "│ Ozymandias                      ┆ 10.0          ┆ 228900   │\n",
              "│ Ozymandias                      ┆ 10.0          ┆ 228900   │\n",
              "│ Ozymandias                      ┆ 10.0          ┆ 228900   │\n",
              "│ Kadifeyi Kesfet                 ┆ 10.0          ┆ 2904     │\n",
              "│ Kadifeyi Kesfet                 ┆ 10.0          ┆ 2904     │\n",
              "│ Kadifeyi Kesfet                 ┆ 10.0          ┆ 2904     │\n",
              "│ Kadifeyi Kesfet                 ┆ 10.0          ┆ 2904     │\n",
              "│ Tatilde CUK Oturur Mukemmel Du… ┆ 10.0          ┆ 2878     │\n",
              "│ Tatilde CUK Oturur Mukemmel Du… ┆ 10.0          ┆ 2878     │\n",
              "└─────────────────────────────────┴───────────────┴──────────┘"
            ],
            "text/html": [
              "<div><style>\n",
              ".dataframe > thead > tr,\n",
              ".dataframe > tbody > tr {\n",
              "  text-align: right;\n",
              "  white-space: pre-wrap;\n",
              "}\n",
              "</style>\n",
              "<small>shape: (10, 3)</small><table border=\"1\" class=\"dataframe\"><thead><tr><th>primaryTitle</th><th>averageRating</th><th>numVotes</th></tr><tr><td>str</td><td>f64</td><td>i64</td></tr></thead><tbody><tr><td>&quot;Ozymandias&quot;</td><td>10.0</td><td>228900</td></tr><tr><td>&quot;Ozymandias&quot;</td><td>10.0</td><td>228900</td></tr><tr><td>&quot;Ozymandias&quot;</td><td>10.0</td><td>228900</td></tr><tr><td>&quot;Ozymandias&quot;</td><td>10.0</td><td>228900</td></tr><tr><td>&quot;Kadifeyi Kesfet&quot;</td><td>10.0</td><td>2904</td></tr><tr><td>&quot;Kadifeyi Kesfet&quot;</td><td>10.0</td><td>2904</td></tr><tr><td>&quot;Kadifeyi Kesfet&quot;</td><td>10.0</td><td>2904</td></tr><tr><td>&quot;Kadifeyi Kesfet&quot;</td><td>10.0</td><td>2904</td></tr><tr><td>&quot;Tatilde CUK Oturur Mukemmel Du…</td><td>10.0</td><td>2878</td></tr><tr><td>&quot;Tatilde CUK Oturur Mukemmel Du…</td><td>10.0</td><td>2878</td></tr></tbody></table></div>"
            ]
          },
          "metadata": {},
          "execution_count": 14
        }
      ],
      "source": [
        "Q1 = pl.read_database(\"\"\"\n",
        "   SELECT primaryTitle, averageRating, numVotes FROM ratings\n",
        "   INNER JOIN basics\n",
        "   ON ratings.tconst = basics.tconst\n",
        "   ORDER BY averageRating DESC, numVotes DESC\n",
        "   LIMIT 10\n",
        "\"\"\", conn)\n",
        "Q1"
      ]
    },
    {
      "cell_type": "code",
      "execution_count": null,
      "metadata": {
        "id": "OD6peJKHhneC",
        "colab": {
          "base_uri": "https://localhost:8080/",
          "height": 255
        },
        "outputId": "65130822-bd4e-414e-931a-cd5be7519744"
      },
      "outputs": [
        {
          "output_type": "execute_result",
          "data": {
            "text/plain": [
              "shape: (5, 2)\n",
              "┌────────────────────────────┬───────┐\n",
              "│ genres                     ┆ n     │\n",
              "│ ---                        ┆ ---   │\n",
              "│ str                        ┆ i64   │\n",
              "╞════════════════════════════╪═══════╡\n",
              "│ Comedy                     ┆ 92284 │\n",
              "│ Documentary                ┆ 83340 │\n",
              "│ Drama                      ┆ 82708 │\n",
              "│ Action,Adventure,Animation ┆ 52596 │\n",
              "│ Drama,Romance              ┆ 29576 │\n",
              "└────────────────────────────┴───────┘"
            ],
            "text/html": [
              "<div><style>\n",
              ".dataframe > thead > tr,\n",
              ".dataframe > tbody > tr {\n",
              "  text-align: right;\n",
              "  white-space: pre-wrap;\n",
              "}\n",
              "</style>\n",
              "<small>shape: (5, 2)</small><table border=\"1\" class=\"dataframe\"><thead><tr><th>genres</th><th>n</th></tr><tr><td>str</td><td>i64</td></tr></thead><tbody><tr><td>&quot;Comedy&quot;</td><td>92284</td></tr><tr><td>&quot;Documentary&quot;</td><td>83340</td></tr><tr><td>&quot;Drama&quot;</td><td>82708</td></tr><tr><td>&quot;Action,Adventure,Animation&quot;</td><td>52596</td></tr><tr><td>&quot;Drama,Romance&quot;</td><td>29576</td></tr></tbody></table></div>"
            ]
          },
          "metadata": {},
          "execution_count": 11
        }
      ],
      "source": [
        "Q2 = pl.read_database(\"\"\"\n",
        "   SELECT genres, COUNT(*) AS n FROM ratings\n",
        "   INNER JOIN basics\n",
        "   ON ratings.tconst = basics.tconst\n",
        "   WHERE averageRating > 8\n",
        "   GROUP BY genres\n",
        "   ORDER BY n DESC\n",
        "   LIMIT 5\n",
        "\"\"\", conn)\n",
        "Q2"
      ]
    },
    {
      "cell_type": "code",
      "execution_count": null,
      "metadata": {
        "id": "h63YKdQYhpGq",
        "colab": {
          "base_uri": "https://localhost:8080/",
          "height": 192
        },
        "outputId": "23968cfb-0dba-4b5d-8425-f218b62d48d3"
      },
      "outputs": [
        {
          "output_type": "execute_result",
          "data": {
            "text/plain": [
              "shape: (3, 2)\n",
              "┌───────────┬──────┐\n",
              "│ nconst    ┆ n    │\n",
              "│ ---       ┆ ---  │\n",
              "│ str       ┆ i64  │\n",
              "╞═══════════╪══════╡\n",
              "│ nm0048389 ┆ 7554 │\n",
              "│ nm0217221 ┆ 5576 │\n",
              "│ nm0444786 ┆ 4902 │\n",
              "└───────────┴──────┘"
            ],
            "text/html": [
              "<div><style>\n",
              ".dataframe > thead > tr,\n",
              ".dataframe > tbody > tr {\n",
              "  text-align: right;\n",
              "  white-space: pre-wrap;\n",
              "}\n",
              "</style>\n",
              "<small>shape: (3, 2)</small><table border=\"1\" class=\"dataframe\"><thead><tr><th>nconst</th><th>n</th></tr><tr><td>str</td><td>i64</td></tr></thead><tbody><tr><td>&quot;nm0048389&quot;</td><td>7554</td></tr><tr><td>&quot;nm0217221&quot;</td><td>5576</td></tr><tr><td>&quot;nm0444786&quot;</td><td>4902</td></tr></tbody></table></div>"
            ]
          },
          "metadata": {},
          "execution_count": 13
        }
      ],
      "source": [
        "Q3 = pl.read_database(\"\"\"\n",
        "   SELECT nconst, COUNT(*) AS n FROM ratings\n",
        "   INNER JOIN principals\n",
        "   ON ratings.tconst = principals.tconst\n",
        "   WHERE averageRating > 7.5 AND category IN ('actor', 'actress')\n",
        "   GROUP BY nconst\n",
        "   ORDER BY n DESC\n",
        "   LIMIT 3\n",
        "\"\"\", conn)\n",
        "Q3"
      ]
    }
  ],
  "metadata": {
    "colab": {
      "provenance": [],
      "authorship_tag": "ABX9TyMfylMGqogDKEPWJqhnFgrV",
      "include_colab_link": true
    },
    "kernelspec": {
      "display_name": "Python 3",
      "name": "python3"
    },
    "language_info": {
      "name": "python"
    }
  },
  "nbformat": 4,
  "nbformat_minor": 0
}