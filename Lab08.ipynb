{
  "nbformat": 4,
  "nbformat_minor": 0,
  "metadata": {
    "colab": {
      "provenance": []
    },
    "kernelspec": {
      "name": "python3",
      "display_name": "Python 3"
    },
    "language_info": {
      "name": "python"
    }
  },
  "cells": [
    {
      "cell_type": "code",
      "source": [
        "!pip install polars\n",
        "!pip install fastexcel"
      ],
      "metadata": {
        "colab": {
          "base_uri": "https://localhost:8080/"
        },
        "id": "vpm_9Q6UOxvB",
        "outputId": "4d1b9b26-21a1-4bcc-e3de-63213fd75e86"
      },
      "execution_count": null,
      "outputs": [
        {
          "output_type": "stream",
          "name": "stdout",
          "text": [
            "Requirement already satisfied: polars in /usr/local/lib/python3.10/dist-packages (1.7.1)\n",
            "Requirement already satisfied: fastexcel in /usr/local/lib/python3.10/dist-packages (0.12.0)\n",
            "Requirement already satisfied: pyarrow>=8.0.0 in /usr/local/lib/python3.10/dist-packages (from fastexcel) (16.1.0)\n",
            "Requirement already satisfied: numpy>=1.16.6 in /usr/local/lib/python3.10/dist-packages (from pyarrow>=8.0.0->fastexcel) (1.26.4)\n"
          ]
        }
      ]
    },
    {
      "cell_type": "code",
      "execution_count": null,
      "metadata": {
        "id": "qlalpZqki-RO"
      },
      "outputs": [],
      "source": [
        "import polars as pl"
      ]
    },
    {
      "cell_type": "code",
      "source": [
        "#endereco do banco de dados: https://me315-unicamp.github.io/dados/renda_adulta.csv.gz\n",
        "!wget https://me315-unicamp.github.io/dados/renda_adulta.csv.gz"
      ],
      "metadata": {
        "colab": {
          "base_uri": "https://localhost:8080/"
        },
        "id": "xJ7Vwc83pfM-",
        "outputId": "4a6ed860-948b-49e7-bb52-3a766c9f3c1a"
      },
      "execution_count": null,
      "outputs": [
        {
          "output_type": "stream",
          "name": "stdout",
          "text": [
            "--2024-10-21 19:55:46--  https://me315-unicamp.github.io/dados/renda_adulta.csv.gz\n",
            "Resolving me315-unicamp.github.io (me315-unicamp.github.io)... 185.199.108.153, 185.199.109.153, 185.199.110.153, ...\n",
            "Connecting to me315-unicamp.github.io (me315-unicamp.github.io)|185.199.108.153|:443... connected.\n",
            "HTTP request sent, awaiting response... 200 OK\n",
            "Length: 422422 (413K) [application/gzip]\n",
            "Saving to: ‘renda_adulta.csv.gz’\n",
            "\n",
            "renda_adulta.csv.gz 100%[===================>] 412.52K  --.-KB/s    in 0.06s   \n",
            "\n",
            "2024-10-21 19:55:46 (7.22 MB/s) - ‘renda_adulta.csv.gz’ saved [422422/422422]\n",
            "\n"
          ]
        }
      ]
    },
    {
      "cell_type": "code",
      "source": [
        "db = pl.read_csv('renda_adulta.csv.gz',has_header=False, new_columns=[\"age\",\"workclass\",\"fnlwgt\",\"education\",\"education-num\",\"marital-status\",\"occupation\",\"relationship\",\"race\",\"sex\",\"capital-gain\",\"capital-loss\",\"hours-per-week\",\"native-country\",\"income\"], dtypes = {\n",
        "    \"age\": pl.Int64,\n",
        "    \"workclass\": pl.Utf8,\n",
        "    \"fnlwgt\": pl.Int64,\n",
        "    \"education\": pl.Utf8,\n",
        "    \"education-num\": pl.Int64,\n",
        "    \"marital-status\": pl.Utf8,\n",
        "    \"occupation\": pl.Utf8,\n",
        "    \"relationship\": pl.Utf8,\n",
        "    \"race\": pl.Utf8,\n",
        "    \"sex\": pl.Utf8,\n",
        "    \"capital-gain\": pl.Int64,\n",
        "    \"capital-loss\": pl.Int64,\n",
        "    \"hours-per-week\": pl.Int64,\n",
        "    \"native-country\": pl.Utf8,\n",
        "    \"income\": pl.Utf8\n",
        "},null_values=\"?\" )\n",
        "db"
      ],
      "metadata": {
        "colab": {
          "base_uri": "https://localhost:8080/",
          "height": 688
        },
        "id": "gO8U6XK2pnIA",
        "outputId": "fef227d0-54e0-45ad-e950-0d7dc0b14dfb"
      },
      "execution_count": null,
      "outputs": [
        {
          "output_type": "stream",
          "name": "stderr",
          "text": [
            "<ipython-input-11-36fe33b04ad0>:1: DeprecationWarning: The argument `dtypes` for `read_csv` is deprecated. It has been renamed to `schema_overrides`.\n",
            "  db = pl.read_csv('renda_adulta.csv.gz',has_header=False, new_columns=[\"age\",\"workclass\",\"fnlwgt\",\"education\",\"education-num\",\"marital-status\",\"occupation\",\"relationship\",\"race\",\"sex\",\"capital-gain\",\"capital-loss\",\"hours-per-week\",\"native-country\",\"income\"], dtypes = {\n"
          ]
        },
        {
          "output_type": "execute_result",
          "data": {
            "text/plain": [
              "shape: (32_561, 15)\n",
              "┌─────┬──────────────┬────────┬────────────┬───┬──────────────┬─────────────┬─────────────┬────────┐\n",
              "│ age ┆ workclass    ┆ fnlwgt ┆ education  ┆ … ┆ capital-loss ┆ hours-per-w ┆ native-coun ┆ income │\n",
              "│ --- ┆ ---          ┆ ---    ┆ ---        ┆   ┆ ---          ┆ eek         ┆ try         ┆ ---    │\n",
              "│ i64 ┆ str          ┆ i64    ┆ str        ┆   ┆ i64          ┆ ---         ┆ ---         ┆ str    │\n",
              "│     ┆              ┆        ┆            ┆   ┆              ┆ i64         ┆ str         ┆        │\n",
              "╞═════╪══════════════╪════════╪════════════╪═══╪══════════════╪═════════════╪═════════════╪════════╡\n",
              "│ 39  ┆ State-gov    ┆ 77516  ┆ Bachelors  ┆ … ┆ 0            ┆ 40          ┆ United-Stat ┆ <=50K  │\n",
              "│     ┆              ┆        ┆            ┆   ┆              ┆             ┆ es          ┆        │\n",
              "│ 50  ┆ Self-emp-not ┆ 83311  ┆ Bachelors  ┆ … ┆ 0            ┆ 13          ┆ United-Stat ┆ <=50K  │\n",
              "│     ┆ -inc         ┆        ┆            ┆   ┆              ┆             ┆ es          ┆        │\n",
              "│ 38  ┆ Private      ┆ 215646 ┆ HS-grad    ┆ … ┆ 0            ┆ 40          ┆ United-Stat ┆ <=50K  │\n",
              "│     ┆              ┆        ┆            ┆   ┆              ┆             ┆ es          ┆        │\n",
              "│ 53  ┆ Private      ┆ 234721 ┆ 11th       ┆ … ┆ 0            ┆ 40          ┆ United-Stat ┆ <=50K  │\n",
              "│     ┆              ┆        ┆            ┆   ┆              ┆             ┆ es          ┆        │\n",
              "│ 28  ┆ Private      ┆ 338409 ┆ Bachelors  ┆ … ┆ 0            ┆ 40          ┆ Cuba        ┆ <=50K  │\n",
              "│ …   ┆ …            ┆ …      ┆ …          ┆ … ┆ …            ┆ …           ┆ …           ┆ …      │\n",
              "│ 27  ┆ Private      ┆ 257302 ┆ Assoc-acdm ┆ … ┆ 0            ┆ 38          ┆ United-Stat ┆ <=50K  │\n",
              "│     ┆              ┆        ┆            ┆   ┆              ┆             ┆ es          ┆        │\n",
              "│ 40  ┆ Private      ┆ 154374 ┆ HS-grad    ┆ … ┆ 0            ┆ 40          ┆ United-Stat ┆ >50K   │\n",
              "│     ┆              ┆        ┆            ┆   ┆              ┆             ┆ es          ┆        │\n",
              "│ 58  ┆ Private      ┆ 151910 ┆ HS-grad    ┆ … ┆ 0            ┆ 40          ┆ United-Stat ┆ <=50K  │\n",
              "│     ┆              ┆        ┆            ┆   ┆              ┆             ┆ es          ┆        │\n",
              "│ 22  ┆ Private      ┆ 201490 ┆ HS-grad    ┆ … ┆ 0            ┆ 20          ┆ United-Stat ┆ <=50K  │\n",
              "│     ┆              ┆        ┆            ┆   ┆              ┆             ┆ es          ┆        │\n",
              "│ 52  ┆ Self-emp-inc ┆ 287927 ┆ HS-grad    ┆ … ┆ 0            ┆ 40          ┆ United-Stat ┆ >50K   │\n",
              "│     ┆              ┆        ┆            ┆   ┆              ┆             ┆ es          ┆        │\n",
              "└─────┴──────────────┴────────┴────────────┴───┴──────────────┴─────────────┴─────────────┴────────┘"
            ],
            "text/html": [
              "<div><style>\n",
              ".dataframe > thead > tr,\n",
              ".dataframe > tbody > tr {\n",
              "  text-align: right;\n",
              "  white-space: pre-wrap;\n",
              "}\n",
              "</style>\n",
              "<small>shape: (32_561, 15)</small><table border=\"1\" class=\"dataframe\"><thead><tr><th>age</th><th>workclass</th><th>fnlwgt</th><th>education</th><th>education-num</th><th>marital-status</th><th>occupation</th><th>relationship</th><th>race</th><th>sex</th><th>capital-gain</th><th>capital-loss</th><th>hours-per-week</th><th>native-country</th><th>income</th></tr><tr><td>i64</td><td>str</td><td>i64</td><td>str</td><td>i64</td><td>str</td><td>str</td><td>str</td><td>str</td><td>str</td><td>i64</td><td>i64</td><td>i64</td><td>str</td><td>str</td></tr></thead><tbody><tr><td>39</td><td>&quot;State-gov&quot;</td><td>77516</td><td>&quot;Bachelors&quot;</td><td>13</td><td>&quot;Never-married&quot;</td><td>&quot;Adm-clerical&quot;</td><td>&quot;Not-in-family&quot;</td><td>&quot;White&quot;</td><td>&quot;Male&quot;</td><td>2174</td><td>0</td><td>40</td><td>&quot;United-States&quot;</td><td>&quot;&lt;=50K&quot;</td></tr><tr><td>50</td><td>&quot;Self-emp-not-inc&quot;</td><td>83311</td><td>&quot;Bachelors&quot;</td><td>13</td><td>&quot;Married-civ-spouse&quot;</td><td>&quot;Exec-managerial&quot;</td><td>&quot;Husband&quot;</td><td>&quot;White&quot;</td><td>&quot;Male&quot;</td><td>0</td><td>0</td><td>13</td><td>&quot;United-States&quot;</td><td>&quot;&lt;=50K&quot;</td></tr><tr><td>38</td><td>&quot;Private&quot;</td><td>215646</td><td>&quot;HS-grad&quot;</td><td>9</td><td>&quot;Divorced&quot;</td><td>&quot;Handlers-cleaners&quot;</td><td>&quot;Not-in-family&quot;</td><td>&quot;White&quot;</td><td>&quot;Male&quot;</td><td>0</td><td>0</td><td>40</td><td>&quot;United-States&quot;</td><td>&quot;&lt;=50K&quot;</td></tr><tr><td>53</td><td>&quot;Private&quot;</td><td>234721</td><td>&quot;11th&quot;</td><td>7</td><td>&quot;Married-civ-spouse&quot;</td><td>&quot;Handlers-cleaners&quot;</td><td>&quot;Husband&quot;</td><td>&quot;Black&quot;</td><td>&quot;Male&quot;</td><td>0</td><td>0</td><td>40</td><td>&quot;United-States&quot;</td><td>&quot;&lt;=50K&quot;</td></tr><tr><td>28</td><td>&quot;Private&quot;</td><td>338409</td><td>&quot;Bachelors&quot;</td><td>13</td><td>&quot;Married-civ-spouse&quot;</td><td>&quot;Prof-specialty&quot;</td><td>&quot;Wife&quot;</td><td>&quot;Black&quot;</td><td>&quot;Female&quot;</td><td>0</td><td>0</td><td>40</td><td>&quot;Cuba&quot;</td><td>&quot;&lt;=50K&quot;</td></tr><tr><td>&hellip;</td><td>&hellip;</td><td>&hellip;</td><td>&hellip;</td><td>&hellip;</td><td>&hellip;</td><td>&hellip;</td><td>&hellip;</td><td>&hellip;</td><td>&hellip;</td><td>&hellip;</td><td>&hellip;</td><td>&hellip;</td><td>&hellip;</td><td>&hellip;</td></tr><tr><td>27</td><td>&quot;Private&quot;</td><td>257302</td><td>&quot;Assoc-acdm&quot;</td><td>12</td><td>&quot;Married-civ-spouse&quot;</td><td>&quot;Tech-support&quot;</td><td>&quot;Wife&quot;</td><td>&quot;White&quot;</td><td>&quot;Female&quot;</td><td>0</td><td>0</td><td>38</td><td>&quot;United-States&quot;</td><td>&quot;&lt;=50K&quot;</td></tr><tr><td>40</td><td>&quot;Private&quot;</td><td>154374</td><td>&quot;HS-grad&quot;</td><td>9</td><td>&quot;Married-civ-spouse&quot;</td><td>&quot;Machine-op-inspct&quot;</td><td>&quot;Husband&quot;</td><td>&quot;White&quot;</td><td>&quot;Male&quot;</td><td>0</td><td>0</td><td>40</td><td>&quot;United-States&quot;</td><td>&quot;&gt;50K&quot;</td></tr><tr><td>58</td><td>&quot;Private&quot;</td><td>151910</td><td>&quot;HS-grad&quot;</td><td>9</td><td>&quot;Widowed&quot;</td><td>&quot;Adm-clerical&quot;</td><td>&quot;Unmarried&quot;</td><td>&quot;White&quot;</td><td>&quot;Female&quot;</td><td>0</td><td>0</td><td>40</td><td>&quot;United-States&quot;</td><td>&quot;&lt;=50K&quot;</td></tr><tr><td>22</td><td>&quot;Private&quot;</td><td>201490</td><td>&quot;HS-grad&quot;</td><td>9</td><td>&quot;Never-married&quot;</td><td>&quot;Adm-clerical&quot;</td><td>&quot;Own-child&quot;</td><td>&quot;White&quot;</td><td>&quot;Male&quot;</td><td>0</td><td>0</td><td>20</td><td>&quot;United-States&quot;</td><td>&quot;&lt;=50K&quot;</td></tr><tr><td>52</td><td>&quot;Self-emp-inc&quot;</td><td>287927</td><td>&quot;HS-grad&quot;</td><td>9</td><td>&quot;Married-civ-spouse&quot;</td><td>&quot;Exec-managerial&quot;</td><td>&quot;Wife&quot;</td><td>&quot;White&quot;</td><td>&quot;Female&quot;</td><td>15024</td><td>0</td><td>40</td><td>&quot;United-States&quot;</td><td>&quot;&gt;50K&quot;</td></tr></tbody></table></div>"
            ]
          },
          "metadata": {},
          "execution_count": 11
        }
      ]
    },
    {
      "cell_type": "code",
      "source": [
        "db.dtypes"
      ],
      "metadata": {
        "colab": {
          "base_uri": "https://localhost:8080/"
        },
        "id": "L70F5NL-rx4j",
        "outputId": "3132c8ab-0148-4051-a9fd-08b182ecf1f3"
      },
      "execution_count": null,
      "outputs": [
        {
          "output_type": "execute_result",
          "data": {
            "text/plain": [
              "[Int64,\n",
              " String,\n",
              " Int64,\n",
              " String,\n",
              " Int64,\n",
              " String,\n",
              " String,\n",
              " String,\n",
              " String,\n",
              " String,\n",
              " Int64,\n",
              " Int64,\n",
              " Int64,\n",
              " String,\n",
              " String]"
            ]
          },
          "metadata": {},
          "execution_count": 13
        }
      ]
    },
    {
      "cell_type": "code",
      "source": [
        "db.shape"
      ],
      "metadata": {
        "colab": {
          "base_uri": "https://localhost:8080/"
        },
        "id": "L-07SLlOsIdt",
        "outputId": "49aae036-06f7-49aa-af0c-883bed153175"
      },
      "execution_count": null,
      "outputs": [
        {
          "output_type": "execute_result",
          "data": {
            "text/plain": [
              "(32561, 15)"
            ]
          },
          "metadata": {},
          "execution_count": 15
        }
      ]
    },
    {
      "cell_type": "code",
      "source": [
        "db2 = pl.read_csv('renda_adulta.csv.gz',has_header=False, columns=[\"column_15\",\"column_10\",\"column_13\"], dtypes = {\n",
        "    \"sex\": pl.Utf8, \"hours-per-week\": pl.Int64, \"income\": pl.Utf8\n",
        "},null_values=\"?\")\n",
        "db2.rename({\"column_15\":\"Income\",\"column_10\":\"Sex\",\"column_13\": \"Hours-per-week\"})\n"
      ],
      "metadata": {
        "colab": {
          "base_uri": "https://localhost:8080/",
          "height": 477
        },
        "id": "1L0a-w1nsO5-",
        "outputId": "321803e7-2fd5-4c42-9317-34d45e139cad"
      },
      "execution_count": null,
      "outputs": [
        {
          "output_type": "stream",
          "name": "stderr",
          "text": [
            "<ipython-input-29-4ca4f6eb60e2>:1: DeprecationWarning: The argument `dtypes` for `read_csv` is deprecated. It has been renamed to `schema_overrides`.\n",
            "  db2 = pl.read_csv('renda_adulta.csv.gz',has_header=False, columns=[\"column_15\",\"column_10\",\"column_13\"], dtypes = {\n"
          ]
        },
        {
          "output_type": "execute_result",
          "data": {
            "text/plain": [
              "shape: (32_561, 3)\n",
              "┌────────┬────────────────┬────────┐\n",
              "│ Sex    ┆ Hours-per-week ┆ Income │\n",
              "│ ---    ┆ ---            ┆ ---    │\n",
              "│ str    ┆ i64            ┆ str    │\n",
              "╞════════╪════════════════╪════════╡\n",
              "│ Male   ┆ 40             ┆ <=50K  │\n",
              "│ Male   ┆ 13             ┆ <=50K  │\n",
              "│ Male   ┆ 40             ┆ <=50K  │\n",
              "│ Male   ┆ 40             ┆ <=50K  │\n",
              "│ Female ┆ 40             ┆ <=50K  │\n",
              "│ …      ┆ …              ┆ …      │\n",
              "│ Female ┆ 38             ┆ <=50K  │\n",
              "│ Male   ┆ 40             ┆ >50K   │\n",
              "│ Female ┆ 40             ┆ <=50K  │\n",
              "│ Male   ┆ 20             ┆ <=50K  │\n",
              "│ Female ┆ 40             ┆ >50K   │\n",
              "└────────┴────────────────┴────────┘"
            ],
            "text/html": [
              "<div><style>\n",
              ".dataframe > thead > tr,\n",
              ".dataframe > tbody > tr {\n",
              "  text-align: right;\n",
              "  white-space: pre-wrap;\n",
              "}\n",
              "</style>\n",
              "<small>shape: (32_561, 3)</small><table border=\"1\" class=\"dataframe\"><thead><tr><th>Sex</th><th>Hours-per-week</th><th>Income</th></tr><tr><td>str</td><td>i64</td><td>str</td></tr></thead><tbody><tr><td>&quot;Male&quot;</td><td>40</td><td>&quot;&lt;=50K&quot;</td></tr><tr><td>&quot;Male&quot;</td><td>13</td><td>&quot;&lt;=50K&quot;</td></tr><tr><td>&quot;Male&quot;</td><td>40</td><td>&quot;&lt;=50K&quot;</td></tr><tr><td>&quot;Male&quot;</td><td>40</td><td>&quot;&lt;=50K&quot;</td></tr><tr><td>&quot;Female&quot;</td><td>40</td><td>&quot;&lt;=50K&quot;</td></tr><tr><td>&hellip;</td><td>&hellip;</td><td>&hellip;</td></tr><tr><td>&quot;Female&quot;</td><td>38</td><td>&quot;&lt;=50K&quot;</td></tr><tr><td>&quot;Male&quot;</td><td>40</td><td>&quot;&gt;50K&quot;</td></tr><tr><td>&quot;Female&quot;</td><td>40</td><td>&quot;&lt;=50K&quot;</td></tr><tr><td>&quot;Male&quot;</td><td>20</td><td>&quot;&lt;=50K&quot;</td></tr><tr><td>&quot;Female&quot;</td><td>40</td><td>&quot;&gt;50K&quot;</td></tr></tbody></table></div>"
            ]
          },
          "metadata": {},
          "execution_count": 29
        }
      ]
    },
    {
      "cell_type": "code",
      "source": [
        "# prompt: Quantas pessoas recebem acima de $50.000 e quantas pessoas recebem abaixo deste limiar?\n",
        "\n",
        "# Contar o número de pessoas com renda acima de $50.000\n",
        "acima_50k = db.filter(pl.col(\"income\") == \">50K\").shape[0]\n",
        "\n",
        "# Contar o número de pessoas com renda abaixo de $50.000\n",
        "abaixo_50k = db.filter(pl.col(\"income\") == \"<=50K\").shape[0]\n",
        "\n",
        "print(f\"Pessoas com renda acima de $50.000: {acima_50k}\")\n",
        "print(f\"Pessoas com renda abaixo de $50.000: {abaixo_50k}\")"
      ],
      "metadata": {
        "colab": {
          "base_uri": "https://localhost:8080/"
        },
        "id": "Y6gzxZANzAv8",
        "outputId": "34b5aeb2-b1ff-4e5c-d2f5-dfa08ae107b1"
      },
      "execution_count": null,
      "outputs": [
        {
          "output_type": "stream",
          "name": "stdout",
          "text": [
            "Pessoas com renda acima de $50.000: 7841\n",
            "Pessoas com renda abaixo de $50.000: 24720\n"
          ]
        }
      ]
    },
    {
      "cell_type": "code",
      "source": [
        "db2.filter(pl.col(\"column_15\") == \">50K\").height"
      ],
      "metadata": {
        "colab": {
          "base_uri": "https://localhost:8080/"
        },
        "id": "I1T6nz4BzNbx",
        "outputId": "eeac5cd2-0005-467e-8a06-5a944b1e4db0"
      },
      "execution_count": null,
      "outputs": [
        {
          "output_type": "execute_result",
          "data": {
            "text/plain": [
              "7841"
            ]
          },
          "metadata": {},
          "execution_count": 41
        }
      ]
    },
    {
      "cell_type": "code",
      "source": [
        "db2.filter(pl.col(\"column_15\") == \"<=50K\").height"
      ],
      "metadata": {
        "colab": {
          "base_uri": "https://localhost:8080/"
        },
        "id": "JJF1guERzv3b",
        "outputId": "866b70e4-ba1a-4708-d57c-cb478b8449b8"
      },
      "execution_count": null,
      "outputs": [
        {
          "output_type": "execute_result",
          "data": {
            "text/plain": [
              "24720"
            ]
          },
          "metadata": {},
          "execution_count": 43
        }
      ]
    },
    {
      "cell_type": "code",
      "source": [
        "renda_longo = db.melt(\n",
        "    id_vars=[\"age\", \"workclass\", \"fnlwgt\", \"education\", \"education-num\", \"marital-status\", \"occupation\",\n",
        "             \"relationship\", \"race\", \"sex\", \"hours-per-week\", \"native-country\", \"income\"],\n",
        "    value_vars=[\"capital-gain\", \"capital-loss\"],\n",
        "    variable_name=\"tipo\",\n",
        "    value_name=\"Valor\"\n",
        ")\n",
        "renda_longo"
      ],
      "metadata": {
        "colab": {
          "base_uri": "https://localhost:8080/",
          "height": 668
        },
        "id": "EPVCQq7iz_4t",
        "outputId": "f63c4506-982a-49ff-e3f8-ed1d8508bbd8"
      },
      "execution_count": null,
      "outputs": [
        {
          "output_type": "stream",
          "name": "stderr",
          "text": [
            "<ipython-input-49-33ff9611e066>:1: DeprecationWarning: `DataFrame.melt` is deprecated. Use `unpivot` instead, with `index` instead of `id_vars` and `on` instead of `value_vars`\n",
            "  renda_longo = db.melt(\n"
          ]
        },
        {
          "output_type": "execute_result",
          "data": {
            "text/plain": [
              "shape: (65_122, 15)\n",
              "┌─────┬─────────────────┬────────┬────────────┬───┬────────────────┬────────┬──────────────┬───────┐\n",
              "│ age ┆ workclass       ┆ fnlwgt ┆ education  ┆ … ┆ native-country ┆ income ┆ tipo         ┆ Valor │\n",
              "│ --- ┆ ---             ┆ ---    ┆ ---        ┆   ┆ ---            ┆ ---    ┆ ---          ┆ ---   │\n",
              "│ i64 ┆ str             ┆ i64    ┆ str        ┆   ┆ str            ┆ str    ┆ str          ┆ i64   │\n",
              "╞═════╪═════════════════╪════════╪════════════╪═══╪════════════════╪════════╪══════════════╪═══════╡\n",
              "│ 39  ┆ State-gov       ┆ 77516  ┆ Bachelors  ┆ … ┆ United-States  ┆ <=50K  ┆ capital-gain ┆ 2174  │\n",
              "│ 50  ┆ Self-emp-not-in ┆ 83311  ┆ Bachelors  ┆ … ┆ United-States  ┆ <=50K  ┆ capital-gain ┆ 0     │\n",
              "│     ┆ c               ┆        ┆            ┆   ┆                ┆        ┆              ┆       │\n",
              "│ 38  ┆ Private         ┆ 215646 ┆ HS-grad    ┆ … ┆ United-States  ┆ <=50K  ┆ capital-gain ┆ 0     │\n",
              "│ 53  ┆ Private         ┆ 234721 ┆ 11th       ┆ … ┆ United-States  ┆ <=50K  ┆ capital-gain ┆ 0     │\n",
              "│ 28  ┆ Private         ┆ 338409 ┆ Bachelors  ┆ … ┆ Cuba           ┆ <=50K  ┆ capital-gain ┆ 0     │\n",
              "│ …   ┆ …               ┆ …      ┆ …          ┆ … ┆ …              ┆ …      ┆ …            ┆ …     │\n",
              "│ 27  ┆ Private         ┆ 257302 ┆ Assoc-acdm ┆ … ┆ United-States  ┆ <=50K  ┆ capital-loss ┆ 0     │\n",
              "│ 40  ┆ Private         ┆ 154374 ┆ HS-grad    ┆ … ┆ United-States  ┆ >50K   ┆ capital-loss ┆ 0     │\n",
              "│ 58  ┆ Private         ┆ 151910 ┆ HS-grad    ┆ … ┆ United-States  ┆ <=50K  ┆ capital-loss ┆ 0     │\n",
              "│ 22  ┆ Private         ┆ 201490 ┆ HS-grad    ┆ … ┆ United-States  ┆ <=50K  ┆ capital-loss ┆ 0     │\n",
              "│ 52  ┆ Self-emp-inc    ┆ 287927 ┆ HS-grad    ┆ … ┆ United-States  ┆ >50K   ┆ capital-loss ┆ 0     │\n",
              "└─────┴─────────────────┴────────┴────────────┴───┴────────────────┴────────┴──────────────┴───────┘"
            ],
            "text/html": [
              "<div><style>\n",
              ".dataframe > thead > tr,\n",
              ".dataframe > tbody > tr {\n",
              "  text-align: right;\n",
              "  white-space: pre-wrap;\n",
              "}\n",
              "</style>\n",
              "<small>shape: (65_122, 15)</small><table border=\"1\" class=\"dataframe\"><thead><tr><th>age</th><th>workclass</th><th>fnlwgt</th><th>education</th><th>education-num</th><th>marital-status</th><th>occupation</th><th>relationship</th><th>race</th><th>sex</th><th>hours-per-week</th><th>native-country</th><th>income</th><th>tipo</th><th>Valor</th></tr><tr><td>i64</td><td>str</td><td>i64</td><td>str</td><td>i64</td><td>str</td><td>str</td><td>str</td><td>str</td><td>str</td><td>i64</td><td>str</td><td>str</td><td>str</td><td>i64</td></tr></thead><tbody><tr><td>39</td><td>&quot;State-gov&quot;</td><td>77516</td><td>&quot;Bachelors&quot;</td><td>13</td><td>&quot;Never-married&quot;</td><td>&quot;Adm-clerical&quot;</td><td>&quot;Not-in-family&quot;</td><td>&quot;White&quot;</td><td>&quot;Male&quot;</td><td>40</td><td>&quot;United-States&quot;</td><td>&quot;&lt;=50K&quot;</td><td>&quot;capital-gain&quot;</td><td>2174</td></tr><tr><td>50</td><td>&quot;Self-emp-not-inc&quot;</td><td>83311</td><td>&quot;Bachelors&quot;</td><td>13</td><td>&quot;Married-civ-spouse&quot;</td><td>&quot;Exec-managerial&quot;</td><td>&quot;Husband&quot;</td><td>&quot;White&quot;</td><td>&quot;Male&quot;</td><td>13</td><td>&quot;United-States&quot;</td><td>&quot;&lt;=50K&quot;</td><td>&quot;capital-gain&quot;</td><td>0</td></tr><tr><td>38</td><td>&quot;Private&quot;</td><td>215646</td><td>&quot;HS-grad&quot;</td><td>9</td><td>&quot;Divorced&quot;</td><td>&quot;Handlers-cleaners&quot;</td><td>&quot;Not-in-family&quot;</td><td>&quot;White&quot;</td><td>&quot;Male&quot;</td><td>40</td><td>&quot;United-States&quot;</td><td>&quot;&lt;=50K&quot;</td><td>&quot;capital-gain&quot;</td><td>0</td></tr><tr><td>53</td><td>&quot;Private&quot;</td><td>234721</td><td>&quot;11th&quot;</td><td>7</td><td>&quot;Married-civ-spouse&quot;</td><td>&quot;Handlers-cleaners&quot;</td><td>&quot;Husband&quot;</td><td>&quot;Black&quot;</td><td>&quot;Male&quot;</td><td>40</td><td>&quot;United-States&quot;</td><td>&quot;&lt;=50K&quot;</td><td>&quot;capital-gain&quot;</td><td>0</td></tr><tr><td>28</td><td>&quot;Private&quot;</td><td>338409</td><td>&quot;Bachelors&quot;</td><td>13</td><td>&quot;Married-civ-spouse&quot;</td><td>&quot;Prof-specialty&quot;</td><td>&quot;Wife&quot;</td><td>&quot;Black&quot;</td><td>&quot;Female&quot;</td><td>40</td><td>&quot;Cuba&quot;</td><td>&quot;&lt;=50K&quot;</td><td>&quot;capital-gain&quot;</td><td>0</td></tr><tr><td>&hellip;</td><td>&hellip;</td><td>&hellip;</td><td>&hellip;</td><td>&hellip;</td><td>&hellip;</td><td>&hellip;</td><td>&hellip;</td><td>&hellip;</td><td>&hellip;</td><td>&hellip;</td><td>&hellip;</td><td>&hellip;</td><td>&hellip;</td><td>&hellip;</td></tr><tr><td>27</td><td>&quot;Private&quot;</td><td>257302</td><td>&quot;Assoc-acdm&quot;</td><td>12</td><td>&quot;Married-civ-spouse&quot;</td><td>&quot;Tech-support&quot;</td><td>&quot;Wife&quot;</td><td>&quot;White&quot;</td><td>&quot;Female&quot;</td><td>38</td><td>&quot;United-States&quot;</td><td>&quot;&lt;=50K&quot;</td><td>&quot;capital-loss&quot;</td><td>0</td></tr><tr><td>40</td><td>&quot;Private&quot;</td><td>154374</td><td>&quot;HS-grad&quot;</td><td>9</td><td>&quot;Married-civ-spouse&quot;</td><td>&quot;Machine-op-inspct&quot;</td><td>&quot;Husband&quot;</td><td>&quot;White&quot;</td><td>&quot;Male&quot;</td><td>40</td><td>&quot;United-States&quot;</td><td>&quot;&gt;50K&quot;</td><td>&quot;capital-loss&quot;</td><td>0</td></tr><tr><td>58</td><td>&quot;Private&quot;</td><td>151910</td><td>&quot;HS-grad&quot;</td><td>9</td><td>&quot;Widowed&quot;</td><td>&quot;Adm-clerical&quot;</td><td>&quot;Unmarried&quot;</td><td>&quot;White&quot;</td><td>&quot;Female&quot;</td><td>40</td><td>&quot;United-States&quot;</td><td>&quot;&lt;=50K&quot;</td><td>&quot;capital-loss&quot;</td><td>0</td></tr><tr><td>22</td><td>&quot;Private&quot;</td><td>201490</td><td>&quot;HS-grad&quot;</td><td>9</td><td>&quot;Never-married&quot;</td><td>&quot;Adm-clerical&quot;</td><td>&quot;Own-child&quot;</td><td>&quot;White&quot;</td><td>&quot;Male&quot;</td><td>20</td><td>&quot;United-States&quot;</td><td>&quot;&lt;=50K&quot;</td><td>&quot;capital-loss&quot;</td><td>0</td></tr><tr><td>52</td><td>&quot;Self-emp-inc&quot;</td><td>287927</td><td>&quot;HS-grad&quot;</td><td>9</td><td>&quot;Married-civ-spouse&quot;</td><td>&quot;Exec-managerial&quot;</td><td>&quot;Wife&quot;</td><td>&quot;White&quot;</td><td>&quot;Female&quot;</td><td>40</td><td>&quot;United-States&quot;</td><td>&quot;&gt;50K&quot;</td><td>&quot;capital-loss&quot;</td><td>0</td></tr></tbody></table></div>"
            ]
          },
          "metadata": {},
          "execution_count": 49
        }
      ]
    },
    {
      "cell_type": "code",
      "source": [
        "db.group_by(\"income\").agg(\n",
        "    pl.col(\"hours-per-week\").mean().alias(\"media de horas trabalhadas\")\n",
        ")"
      ],
      "metadata": {
        "colab": {
          "base_uri": "https://localhost:8080/",
          "height": 161
        },
        "id": "BEHZeSh409ES",
        "outputId": "42ccf90f-fadf-4b25-8476-879e52080a43"
      },
      "execution_count": null,
      "outputs": [
        {
          "output_type": "execute_result",
          "data": {
            "text/plain": [
              "shape: (2, 2)\n",
              "┌────────┬────────────────────────────┐\n",
              "│ income ┆ media de horas trabalhadas │\n",
              "│ ---    ┆ ---                        │\n",
              "│ str    ┆ f64                        │\n",
              "╞════════╪════════════════════════════╡\n",
              "│ >50K   ┆ 45.473026                  │\n",
              "│ <=50K  ┆ 38.84021                   │\n",
              "└────────┴────────────────────────────┘"
            ],
            "text/html": [
              "<div><style>\n",
              ".dataframe > thead > tr,\n",
              ".dataframe > tbody > tr {\n",
              "  text-align: right;\n",
              "  white-space: pre-wrap;\n",
              "}\n",
              "</style>\n",
              "<small>shape: (2, 2)</small><table border=\"1\" class=\"dataframe\"><thead><tr><th>income</th><th>media de horas trabalhadas</th></tr><tr><td>str</td><td>f64</td></tr></thead><tbody><tr><td>&quot;&gt;50K&quot;</td><td>45.473026</td></tr><tr><td>&quot;&lt;=50K&quot;</td><td>38.84021</td></tr></tbody></table></div>"
            ]
          },
          "metadata": {},
          "execution_count": 50
        }
      ]
    },
    {
      "cell_type": "code",
      "source": [
        "db.drop_nulls(\"occupation\").group_by(\"occupation\").agg(pl.count()).sort(\"count\", descending=True)"
      ],
      "metadata": {
        "colab": {
          "base_uri": "https://localhost:8080/",
          "height": 460
        },
        "id": "Fatshy-i3Zw-",
        "outputId": "a675201b-ec4f-46bd-aa1c-fc6ec1137bcb"
      },
      "execution_count": null,
      "outputs": [
        {
          "output_type": "stream",
          "name": "stderr",
          "text": [
            "<ipython-input-69-5c23c416fcad>:1: DeprecationWarning: `pl.count()` is deprecated. Please use `pl.len()` instead.\n"
          ]
        },
        {
          "output_type": "execute_result",
          "data": {
            "text/plain": [
              "shape: (14, 2)\n",
              "┌─────────────────┬───────┐\n",
              "│ occupation      ┆ count │\n",
              "│ ---             ┆ ---   │\n",
              "│ str             ┆ u32   │\n",
              "╞═════════════════╪═══════╡\n",
              "│ Prof-specialty  ┆ 4140  │\n",
              "│ Craft-repair    ┆ 4099  │\n",
              "│ Exec-managerial ┆ 4066  │\n",
              "│ Adm-clerical    ┆ 3770  │\n",
              "│ Sales           ┆ 3650  │\n",
              "│ …               ┆ …     │\n",
              "│ Farming-fishing ┆ 994   │\n",
              "│ Tech-support    ┆ 928   │\n",
              "│ Protective-serv ┆ 649   │\n",
              "│ Priv-house-serv ┆ 149   │\n",
              "│ Armed-Forces    ┆ 9     │\n",
              "└─────────────────┴───────┘"
            ],
            "text/html": [
              "<div><style>\n",
              ".dataframe > thead > tr,\n",
              ".dataframe > tbody > tr {\n",
              "  text-align: right;\n",
              "  white-space: pre-wrap;\n",
              "}\n",
              "</style>\n",
              "<small>shape: (14, 2)</small><table border=\"1\" class=\"dataframe\"><thead><tr><th>occupation</th><th>count</th></tr><tr><td>str</td><td>u32</td></tr></thead><tbody><tr><td>&quot;Prof-specialty&quot;</td><td>4140</td></tr><tr><td>&quot;Craft-repair&quot;</td><td>4099</td></tr><tr><td>&quot;Exec-managerial&quot;</td><td>4066</td></tr><tr><td>&quot;Adm-clerical&quot;</td><td>3770</td></tr><tr><td>&quot;Sales&quot;</td><td>3650</td></tr><tr><td>&hellip;</td><td>&hellip;</td></tr><tr><td>&quot;Farming-fishing&quot;</td><td>994</td></tr><tr><td>&quot;Tech-support&quot;</td><td>928</td></tr><tr><td>&quot;Protective-serv&quot;</td><td>649</td></tr><tr><td>&quot;Priv-house-serv&quot;</td><td>149</td></tr><tr><td>&quot;Armed-Forces&quot;</td><td>9</td></tr></tbody></table></div>"
            ]
          },
          "metadata": {},
          "execution_count": 69
        }
      ]
    },
    {
      "cell_type": "code",
      "source": [
        "# prompt: Crie um gráfico de barras com o ggplot que apresente o número médio de horas trabalhadas semanalmente em função do nível salarial.\n",
        "\n",
        "!pip install plotnine\n",
        "\n",
        "from plotnine import *\n",
        "\n",
        "# Calcular a média de horas trabalhadas por nível salarial\n",
        "media_horas_salario = db.group_by(\"income\").agg(pl.col(\"hours-per-week\").mean().alias(\"media_horas\"))\n",
        "\n",
        "# Criar o gráfico de barras\n",
        "(ggplot(media_horas_salario, aes(x=\"income\", y=\"media_horas\"))\n",
        " + geom_col()\n",
        " + labs(x=\"Nível Salarial\", y=\"Número Médio de Horas Trabalhadas Semanalmente\", title=\"Número Médio de Horas Trabalhadas por Nível Salarial\")\n",
        " + theme_bw()\n",
        ")"
      ],
      "metadata": {
        "id": "kjA0FX5Z2Owe"
      },
      "execution_count": null,
      "outputs": []
    },
    {
      "cell_type": "code",
      "source": [
        "medias_horas = db.group_by(\"income\").agg(pl.col(\"hours-per-week\").mean().alias(\"medias_horas\"))\n",
        "\n",
        "from plotnine import ggplot,aes,geom_bar,theme_bw,labs\n",
        "\n",
        "ggplot(medias_horas,aes(x = \"income\",y = \"medias_horas\",fill = \"income\")) + geom_bar(stat = \"identity\")+ labs(x = \"Salário Anual\",y = \"Horas Semanais Trabalhadas\")+theme_bw()"
      ],
      "metadata": {
        "colab": {
          "base_uri": "https://localhost:8080/",
          "height": 497
        },
        "id": "PHHhsx9Y2P0H",
        "outputId": "2ae982c9-ccc0-465c-8bad-28163f28764d"
      },
      "execution_count": null,
      "outputs": [
        {
          "output_type": "display_data",
          "data": {
            "image/png": "[encoded data removed]"
          },
          "metadata": {
            "image/png": {
              "width": 640,
              "height": 480
            }
          }
        }
      ]
    }
  ]
}